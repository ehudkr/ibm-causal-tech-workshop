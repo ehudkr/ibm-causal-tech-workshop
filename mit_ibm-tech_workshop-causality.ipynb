{
 "cells": [
  {
   "cell_type": "code",
   "execution_count": 1,
   "id": "e20a85c3-457e-4486-b0fb-9b1c83a13c5d",
   "metadata": {},
   "outputs": [],
   "source": [
    "import causallib"
   ]
  },
  {
   "cell_type": "markdown",
   "id": "ee2e1ccf-bc5b-4138-a943-c8317f36a3b9",
   "metadata": {},
   "source": [
    "Outline\n",
    "\n",
    "1. IPW\n",
    "   1. replace internal learner\n",
    "   2. evaluation (ROC, LOVE, DISTRIBUTION)\n",
    "2. standardization\n",
    "   1. replace S-learner with T-learner\n",
    "3. doubly robust with the same IPW & standardization"
   ]
  },
  {
   "cell_type": "code",
   "execution_count": null,
   "id": "83a11163-5a0b-491a-81f2-e9aff350cb3b",
   "metadata": {},
   "outputs": [],
   "source": []
  }
 ],
 "metadata": {
  "kernelspec": {
   "display_name": "Python 3 (ipykernel)",
   "language": "python",
   "name": "python3"
  },
  "language_info": {
   "codemirror_mode": {
    "name": "ipython",
    "version": 3
   },
   "file_extension": ".py",
   "mimetype": "text/x-python",
   "name": "python",
   "nbconvert_exporter": "python",
   "pygments_lexer": "ipython3",
   "version": "3.10.13"
  }
 },
 "nbformat": 4,
 "nbformat_minor": 5
}
