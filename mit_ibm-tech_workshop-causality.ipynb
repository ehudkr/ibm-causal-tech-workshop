{
 "cells": [
  {
   "cell_type": "markdown",
   "id": "ab797f88-dbf1-453a-a333-2e7f112fd763",
   "metadata": {},
   "source": [
    "# Introduction to Causal Inference with `causallib`"
   ]
  },
  {
   "cell_type": "markdown",
   "id": "6ed023c5-1dcc-4612-b638-a469b2c7ee28",
   "metadata": {},
   "source": [
    "## Summary\n",
    "This Notebook accompanies the technical workshop on causal inference.\n",
    "It reviews the estimation methods for causal inference and counterfactual prediction \n",
    "and shows how to apply them in `causallib` - an open-source Python package for flexible causal inference modeling.   \n",
    "The Notebook also contains some blank cells that act as an exercise for those who wish some more hands-on coding."
   ]
  },
  {
   "cell_type": "markdown",
   "id": "272d5e57-038e-47b9-b93e-710ced4ac958",
   "metadata": {},
   "source": [
    "# Table of Contents\n",
    "* <a href=\"#BMD_data\">Step 1. Load the Libraries and Pre-Process the Data</a>\n",
    "    * <a href=\"#BMD_libraries\">Load the libraries</a>\n",
    "    * <a href=\"#BMD_load_data\">Load the dataset</a>\n",
    "    * <a href=\"#BMD_convert\">Identify the outcome variable</a>\n",
    "    * <a href=\"#BMD_data-treatment\">Identify the treatment variable</a>\n",
    "    * <a href=\"#BMD_data-confounders\">Identify potential confounders</a>\n",
    "* <a href=\"#BMD_estimation\">Step 2. Estimate the causal effect</a>\n",
    "    * <a href=\"#BMD_contact-ipw1\">Apply inverse propensity weighting</a>\n",
    "      * <a href=\"#BMD_contact-overlap\">Overlap validation</a>\n",
    "      * <a href=\"#BMD_contact-ipw2\">Apply IPW on the overlapping subsample</a>\n",
    "        * <a href=\"#BMD_contact-ipw2-eval\">Evaluate IPW</a>\n",
    "        * <a href=\"#BMD_contact-ipw2-eval\">Estimate with IPW</a>\n",
    "      * <a href=\"#BMD_contact-ipw-exercise\">📖✏️Exercise: try your own IPW🎓</a>\n",
    "    * <a href=\"#BMD_contact-standardization\">Direct-outcome modeling</a>\n",
    "      * <a href=\"#BMD_contact-std-indeffects\">Individual-level causal effects</a>\n",
    "      * <a href=\"#BMD_contact-std-cate\">Conditional average treatment effect</a>\n",
    "      * <a href=\"#BMD_contact-std-tlearner\">Introducing T-learner</a>\n",
    "        * <a href=\"#BMD_contact-std-tlearner-ex\">📖✏️Exercise: try your own T-learner🎓</font></a>\n",
    "    * <a href=\"#BMD_contact-doublyrobust\">Doubly Robust models</a>\n",
    "      * <a href=\"#BMD_contact-doublyrobust-ex\">📖✏️Exercise: try your own doubly robust🎓</font></a>\n",
    "* <a href=\"#BMD_contact-summary\">Summary</a>"
   ]
  },
  {
   "cell_type": "markdown",
   "id": "ec27e869-e3e2-4fd4-98dc-fe909b90ae8c",
   "metadata": {},
   "source": [
    "<a id=\"BMD_data\"></a>\n",
    "## Step 1. Load the Libraries and Pre-Process Data"
   ]
  },
  {
   "cell_type": "markdown",
   "id": "e4cdc1b4-7db2-4bde-91b4-d52f0ab22054",
   "metadata": {},
   "source": [
    "<a id=\"BMD_libraries\"></a>\n",
    "Note, to minimize scrolling, we load here only general purpose libraries and will load the moe specific ones as we progress."
   ]
  },
  {
   "cell_type": "code",
   "execution_count": 1,
   "id": "e0fcd80d-28c3-455c-a669-f004ef1ea518",
   "metadata": {},
   "outputs": [],
   "source": [
    "import pandas as pd\n",
    "import matplotlib.pyplot as plt\n",
    "\n",
    "# import warnings\n",
    "# warnings.filterwarnings('ignore')"
   ]
  },
  {
   "cell_type": "markdown",
   "id": "15a43fa6-cc59-4639-84bd-2e12f153fc87",
   "metadata": {},
   "source": [
    "<a id=\"BMD_load_data\"></a>\n",
    "### 1.2 Load the dataset\n",
    "\n",
    "We load the [UCI Bank marketing dataset](https://archive.ics.uci.edu/dataset/222/bank+marketing)."
   ]
  },
  {
   "cell_type": "code",
   "execution_count": 2,
   "id": "89db2df4-3a42-4320-a2e5-273a1bd97926",
   "metadata": {},
   "outputs": [
    {
     "data": {
      "text/plain": [
       "(41188, 21)"
      ]
     },
     "execution_count": 2,
     "metadata": {},
     "output_type": "execute_result"
    }
   ],
   "source": [
    "def read_data_from_UCI():\n",
    "    \"\"\"Reads the bank-marketing data table from a zip file directly from UCI\"\"\"\n",
    "    import zipfile\n",
    "    import io\n",
    "    from urllib import request\n",
    "\n",
    "    url = \"https://archive.ics.uci.edu/ml/machine-learning-databases/00222/bank-additional.zip\"\n",
    "    with request.urlopen(url) as r:\n",
    "        with zipfile.ZipFile(io.BytesIO(r.read())) as zf:\n",
    "            csv_file = zf.open(\"bank-additional/bank-additional-full.csv\")\n",
    "            df = pd.read_csv(csv_file, sep=\";\")\n",
    "    return df\n",
    "\n",
    "data = read_data_from_UCI()\n",
    "data.shape"
   ]
  },
  {
   "cell_type": "markdown",
   "id": "2f039c0a-7f5a-4afd-a900-84a7b3ff2596",
   "metadata": {},
   "source": [
    "We list out the variables present in the dataset to understand the contents."
   ]
  },
  {
   "cell_type": "code",
   "execution_count": 3,
   "id": "b5744e5d-d37b-40a6-b126-86cf338479cf",
   "metadata": {},
   "outputs": [
    {
     "data": {
      "text/plain": [
       "Index(['age', 'job', 'marital', 'education', 'default', 'housing', 'loan',\n",
       "       'contact', 'month', 'day_of_week', 'duration', 'campaign', 'pdays',\n",
       "       'previous', 'poutcome', 'emp.var.rate', 'cons.price.idx',\n",
       "       'cons.conf.idx', 'euribor3m', 'nr.employed', 'y'],\n",
       "      dtype='object')"
      ]
     },
     "execution_count": 3,
     "metadata": {},
     "output_type": "execute_result"
    }
   ],
   "source": [
    "data.columns"
   ]
  },
  {
   "cell_type": "markdown",
   "id": "2b98c509-8d34-4be1-b675-79121d879909",
   "metadata": {},
   "source": [
    "The following are the variables in the [dataset](https://archive.ics.uci.edu/dataset/222/bank+marketing#:~:text=Variables%20Table):\n",
    "* The first seven variables, *age* through *loan*, are client information, including basic credit characteristics *default*, *housing*, and *loan*.\n",
    "* The next four variables characterize the client contact during the marketing campaign: the mode of communication, *contact*, which can be \"cellular\" or \"telephone\"; the date information, which includes the *month* and the *day_of_week*, and the *duration* of the contact; and *campaign*, the number of contacts made during this campaign.\n",
    "* The three following variables characterize the previous marketing campaigns, if applicable: the number of days since the last contact from a previous campaign, *pdays*; the number of contacts in previous campaigns, *previous*; and the outcome from the previous campaigns, *poutcome*.\n",
    "* The variables *emp.var.rate*  and *nr.employed* are economic indicators at the time of the campaign contact representing the employment rate and consumer price index, respectively.\n",
    "* The last variable *y* is the outcome of the campaign reflecting whether the client opened a term deposit account or not."
   ]
  },
  {
   "cell_type": "markdown",
   "id": "eda721b0-f82a-4602-b2f4-9d0b9ba8e609",
   "metadata": {},
   "source": [
    "<a id=\"BMD_convert\"></a>\n",
    "### 1.3 Identify the outcome variable\n",
    "\n",
    "We start processing by converting the *y*  outcome variable into a binary value, mapping \"yes\" to a value of 1 and \"no\" to a value of 0."
   ]
  },
  {
   "cell_type": "code",
   "execution_count": 4,
   "id": "7bcec137",
   "metadata": {},
   "outputs": [],
   "source": [
    "from sklearn.preprocessing import LabelEncoder"
   ]
  },
  {
   "cell_type": "code",
   "execution_count": 5,
   "id": "8cc70e5a-b4fe-4d06-9718-62dfbbfdfdf4",
   "metadata": {},
   "outputs": [
    {
     "name": "stdout",
     "output_type": "stream",
     "text": [
      "['no' 'yes']\n"
     ]
    },
    {
     "data": {
      "text/plain": [
       "0.11265417111780131"
      ]
     },
     "execution_count": 5,
     "metadata": {},
     "output_type": "execute_result"
    }
   ],
   "source": [
    "print(data['y'].unique())\n",
    "\n",
    "le = LabelEncoder()\n",
    "y = pd.Series(le.fit_transform(data['y']), name='y')\n",
    "y.mean()"
   ]
  },
  {
   "cell_type": "markdown",
   "id": "62a6258f-7d38-4687-ab0f-170d46e1cb99",
   "metadata": {},
   "source": [
    "As we can see from the *y* variable mean, 11.3% of the contacted clients signed up for a term deposit account during this campaign."
   ]
  },
  {
   "cell_type": "markdown",
   "id": "e3c71223-9312-45b1-baab-e483728ab734",
   "metadata": {
    "tags": []
   },
   "source": [
    "<a id=\"BMD_data-treatment\"></a>\n",
    "### 1.4 Identify the treatment variable\n",
    "\n",
    "Next, we consider which variables could be regarded as interventions that could be undertaken by bank employees to increase the rate of positive outcomes. The interventions are limited to variables associated with the current campaign, since client characteristics and economic conditions cannot be controlled by the bank, nor can past events be changed. In addition, the *duration* is not known until the last contact is completed and is mostly determined by the client, as further discussed [here](https://archive.ics.uci.edu/dataset/222/bank+marketing#:~:text=Variables%20Table).\n",
    "\n",
    "Of the remaining variables, we will investigate the effects of the mode of communication (*contact*).\n",
    "We again encode it numerically, with 0 for cellular for 1 for landline telephone."
   ]
  },
  {
   "cell_type": "code",
   "execution_count": 6,
   "id": "17c0c7e3-22e0-4dd0-a636-eb16ff71d42a",
   "metadata": {},
   "outputs": [
    {
     "name": "stdout",
     "output_type": "stream",
     "text": [
      "['telephone' 'cellular']\n"
     ]
    },
    {
     "data": {
      "text/plain": [
       "0.3652520151500437"
      ]
     },
     "execution_count": 6,
     "metadata": {},
     "output_type": "execute_result"
    }
   ],
   "source": [
    "print(data['contact'].unique())\n",
    "a = pd.Series(le.fit_transform(data['contact']), name='a')\n",
    "a.mean()"
   ]
  },
  {
   "cell_type": "markdown",
   "id": "23a266dc-1231-4475-8f9e-646c7bc368d5",
   "metadata": {},
   "source": [
    "As we can see by the mean calculated in the following cell, 36.5% of the calls were made to a cellular phone."
   ]
  },
  {
   "cell_type": "markdown",
   "id": "0ef9ec95-70cd-423a-b007-3df49795215b",
   "metadata": {
    "tags": []
   },
   "source": [
    "<a id=\"BMD_data-confounders\"></a>\n",
    "### 1.5 Identify potential confounders\n",
    "\n",
    "To estimate causal effects from observational data, we must identify which of the variables are potential confounders. Confounders are variables that could affect both the outcome variable *y* as well as the decision to intervene *a*. \n",
    "We will want to adjust for these confounders to eliminate their impact on the outcome and thus isolate the causal effect of the intervention on the outcome.   \n",
    "\n",
    "This is a very important task that cannot be validated with data, and thus often relies on domain expert knowledge.  \n",
    "However, there are several rules of thumbs that usually hold:\n",
    "1. Avoid adjusting for post-intervention variables. variables downstream of the intervention may \"explain away\" the treatment effect, biasing the estimation towards the null. Working with such mediator variables brings further complexity to the study design and analysis and is out of scope for this exercise.  \n",
    "2. It is often useful to view these decisions from the perspective of whoever delivering the interventions (e.g., the bank employee who made the decision) as they can be solicited to understand the factors leading up to their own decision (as opposed to try understand the mechanism determining the outcome and what  factors they include).\n",
    "3. Factors predicting the outcome but not the treatment, may be beneficial in reducing the outcome variance, leaving variance for the treatment to explain and leading to more precise treatment effect estimations.\n",
    "4. For a formal enumeration of what covariates should be adjusted for in an analysis, you may refer to [*Cinelli, Forney, and Pearl: A Crash Course in Good and Bad Controls (2022)*](https://doi.org/10.1177/00491241221099). \n",
    "\n",
    "With these considerations in mind, we can include the following as potential confounders:\n",
    "* Client characteristics *age* through *loan*, are factors that clearly affect the outcome, that is, the client's decision to invest in a term deposit. We consider that the bank already has this information in their records and a bank employee could review it before contacting the client.\n",
    "* Previous campaigns *pdays*, *previous*, and *poutcome* variables indicate the client's previous receptiveness to the bank's products and would also be part of the client record.\n",
    "* Similarly, *campaign*, the number of contacts up until this point, may also capture relevant informative about a customer's relationship with the bank.\n",
    "* Economic indicators *emp.var.rate*-*nr.employed* may influence the client's decision as well as the bank's practices.\n",
    "* and *month* may to account for any seasonal effects.\n",
    "* Lastly, *duration* (of the call) should be **excluded** since it is future information not available to the banker at the time of the decision (post-treatment information, see first consideration)."
   ]
  },
  {
   "cell_type": "code",
   "execution_count": 7,
   "id": "de89a722-bebe-4b32-9d59-a4b08ffa2bb2",
   "metadata": {},
   "outputs": [],
   "source": [
    "confounders = [\n",
    "    'age', 'job', 'marital', 'education', 'default', 'housing', 'loan', \n",
    "    'pdays', 'previous', 'poutcome', 'campaign',\n",
    "    'emp.var.rate', 'cons.price.idx', 'cons.conf.idx', 'euribor3m', 'nr.employed',\n",
    "    'month',\n",
    "]"
   ]
  },
  {
   "cell_type": "markdown",
   "id": "f2baac82-b546-4594-9f53-990b6006430b",
   "metadata": {},
   "source": [
    "We extract the confounders into a variable *X* and then in the following cell dummy-code, that converts all of the categorical variables into 1 and 0 values in preparation for modeling.\n"
   ]
  },
  {
   "cell_type": "code",
   "execution_count": 8,
   "id": "b15cdfe7-82bc-405f-97aa-dea4c3b2832d",
   "metadata": {},
   "outputs": [
    {
     "data": {
      "text/plain": [
       "age                 int64\n",
       "job                object\n",
       "marital            object\n",
       "education          object\n",
       "default            object\n",
       "housing            object\n",
       "loan               object\n",
       "pdays               int64\n",
       "previous            int64\n",
       "poutcome           object\n",
       "campaign            int64\n",
       "emp.var.rate      float64\n",
       "cons.price.idx    float64\n",
       "cons.conf.idx     float64\n",
       "euribor3m         float64\n",
       "nr.employed       float64\n",
       "month              object\n",
       "dtype: object"
      ]
     },
     "execution_count": 8,
     "metadata": {},
     "output_type": "execute_result"
    }
   ],
   "source": [
    "X = data[confounders]\n",
    "X.dtypes"
   ]
  },
  {
   "cell_type": "code",
   "execution_count": 9,
   "id": "e84eb73a-46dd-40fd-a098-96110ae4a495",
   "metadata": {},
   "outputs": [
    {
     "data": {
      "text/html": [
       "<div>\n",
       "<style scoped>\n",
       "    .dataframe tbody tr th:only-of-type {\n",
       "        vertical-align: middle;\n",
       "    }\n",
       "\n",
       "    .dataframe tbody tr th {\n",
       "        vertical-align: top;\n",
       "    }\n",
       "\n",
       "    .dataframe thead th {\n",
       "        text-align: right;\n",
       "    }\n",
       "</style>\n",
       "<table border=\"1\" class=\"dataframe\">\n",
       "  <thead>\n",
       "    <tr style=\"text-align: right;\">\n",
       "      <th></th>\n",
       "      <th>age</th>\n",
       "      <th>pdays</th>\n",
       "      <th>previous</th>\n",
       "      <th>campaign</th>\n",
       "      <th>emp.var.rate</th>\n",
       "      <th>cons.price.idx</th>\n",
       "      <th>cons.conf.idx</th>\n",
       "      <th>euribor3m</th>\n",
       "      <th>nr.employed</th>\n",
       "      <th>job_blue-collar</th>\n",
       "      <th>...</th>\n",
       "      <th>poutcome_success</th>\n",
       "      <th>month_aug</th>\n",
       "      <th>month_dec</th>\n",
       "      <th>month_jul</th>\n",
       "      <th>month_jun</th>\n",
       "      <th>month_mar</th>\n",
       "      <th>month_may</th>\n",
       "      <th>month_nov</th>\n",
       "      <th>month_oct</th>\n",
       "      <th>month_sep</th>\n",
       "    </tr>\n",
       "  </thead>\n",
       "  <tbody>\n",
       "    <tr>\n",
       "      <th>0</th>\n",
       "      <td>56</td>\n",
       "      <td>999</td>\n",
       "      <td>0</td>\n",
       "      <td>1</td>\n",
       "      <td>1.1</td>\n",
       "      <td>93.994</td>\n",
       "      <td>-36.4</td>\n",
       "      <td>4.857</td>\n",
       "      <td>5191.0</td>\n",
       "      <td>False</td>\n",
       "      <td>...</td>\n",
       "      <td>False</td>\n",
       "      <td>False</td>\n",
       "      <td>False</td>\n",
       "      <td>False</td>\n",
       "      <td>False</td>\n",
       "      <td>False</td>\n",
       "      <td>True</td>\n",
       "      <td>False</td>\n",
       "      <td>False</td>\n",
       "      <td>False</td>\n",
       "    </tr>\n",
       "    <tr>\n",
       "      <th>1</th>\n",
       "      <td>57</td>\n",
       "      <td>999</td>\n",
       "      <td>0</td>\n",
       "      <td>1</td>\n",
       "      <td>1.1</td>\n",
       "      <td>93.994</td>\n",
       "      <td>-36.4</td>\n",
       "      <td>4.857</td>\n",
       "      <td>5191.0</td>\n",
       "      <td>False</td>\n",
       "      <td>...</td>\n",
       "      <td>False</td>\n",
       "      <td>False</td>\n",
       "      <td>False</td>\n",
       "      <td>False</td>\n",
       "      <td>False</td>\n",
       "      <td>False</td>\n",
       "      <td>True</td>\n",
       "      <td>False</td>\n",
       "      <td>False</td>\n",
       "      <td>False</td>\n",
       "    </tr>\n",
       "    <tr>\n",
       "      <th>2</th>\n",
       "      <td>37</td>\n",
       "      <td>999</td>\n",
       "      <td>0</td>\n",
       "      <td>1</td>\n",
       "      <td>1.1</td>\n",
       "      <td>93.994</td>\n",
       "      <td>-36.4</td>\n",
       "      <td>4.857</td>\n",
       "      <td>5191.0</td>\n",
       "      <td>False</td>\n",
       "      <td>...</td>\n",
       "      <td>False</td>\n",
       "      <td>False</td>\n",
       "      <td>False</td>\n",
       "      <td>False</td>\n",
       "      <td>False</td>\n",
       "      <td>False</td>\n",
       "      <td>True</td>\n",
       "      <td>False</td>\n",
       "      <td>False</td>\n",
       "      <td>False</td>\n",
       "    </tr>\n",
       "    <tr>\n",
       "      <th>3</th>\n",
       "      <td>40</td>\n",
       "      <td>999</td>\n",
       "      <td>0</td>\n",
       "      <td>1</td>\n",
       "      <td>1.1</td>\n",
       "      <td>93.994</td>\n",
       "      <td>-36.4</td>\n",
       "      <td>4.857</td>\n",
       "      <td>5191.0</td>\n",
       "      <td>False</td>\n",
       "      <td>...</td>\n",
       "      <td>False</td>\n",
       "      <td>False</td>\n",
       "      <td>False</td>\n",
       "      <td>False</td>\n",
       "      <td>False</td>\n",
       "      <td>False</td>\n",
       "      <td>True</td>\n",
       "      <td>False</td>\n",
       "      <td>False</td>\n",
       "      <td>False</td>\n",
       "    </tr>\n",
       "    <tr>\n",
       "      <th>4</th>\n",
       "      <td>56</td>\n",
       "      <td>999</td>\n",
       "      <td>0</td>\n",
       "      <td>1</td>\n",
       "      <td>1.1</td>\n",
       "      <td>93.994</td>\n",
       "      <td>-36.4</td>\n",
       "      <td>4.857</td>\n",
       "      <td>5191.0</td>\n",
       "      <td>False</td>\n",
       "      <td>...</td>\n",
       "      <td>False</td>\n",
       "      <td>False</td>\n",
       "      <td>False</td>\n",
       "      <td>False</td>\n",
       "      <td>False</td>\n",
       "      <td>False</td>\n",
       "      <td>True</td>\n",
       "      <td>False</td>\n",
       "      <td>False</td>\n",
       "      <td>False</td>\n",
       "    </tr>\n",
       "  </tbody>\n",
       "</table>\n",
       "<p>5 rows × 47 columns</p>\n",
       "</div>"
      ],
      "text/plain": [
       "   age  pdays  previous  campaign  emp.var.rate  cons.price.idx  \\\n",
       "0   56    999         0         1           1.1          93.994   \n",
       "1   57    999         0         1           1.1          93.994   \n",
       "2   37    999         0         1           1.1          93.994   \n",
       "3   40    999         0         1           1.1          93.994   \n",
       "4   56    999         0         1           1.1          93.994   \n",
       "\n",
       "   cons.conf.idx  euribor3m  nr.employed  job_blue-collar  ...  \\\n",
       "0          -36.4      4.857       5191.0            False  ...   \n",
       "1          -36.4      4.857       5191.0            False  ...   \n",
       "2          -36.4      4.857       5191.0            False  ...   \n",
       "3          -36.4      4.857       5191.0            False  ...   \n",
       "4          -36.4      4.857       5191.0            False  ...   \n",
       "\n",
       "   poutcome_success  month_aug  month_dec  month_jul  month_jun  month_mar  \\\n",
       "0             False      False      False      False      False      False   \n",
       "1             False      False      False      False      False      False   \n",
       "2             False      False      False      False      False      False   \n",
       "3             False      False      False      False      False      False   \n",
       "4             False      False      False      False      False      False   \n",
       "\n",
       "   month_may  month_nov  month_oct  month_sep  \n",
       "0       True      False      False      False  \n",
       "1       True      False      False      False  \n",
       "2       True      False      False      False  \n",
       "3       True      False      False      False  \n",
       "4       True      False      False      False  \n",
       "\n",
       "[5 rows x 47 columns]"
      ]
     },
     "execution_count": 9,
     "metadata": {},
     "output_type": "execute_result"
    }
   ],
   "source": [
    "# X = pd.get_dummies(X, prefix_sep='=', drop_first=True)\n",
    "X = pd.get_dummies(X, drop_first=True)\n",
    "X.head()"
   ]
  },
  {
   "cell_type": "markdown",
   "id": "8d53b795-1f6b-45ee-a7a7-0c18695dd4ce",
   "metadata": {},
   "source": [
    "<a id=\"BMD_estimation\"></a>\n",
    "## Step 2. Estimate the causal effect"
   ]
  },
  {
   "cell_type": "markdown",
   "id": "fad6e8f9-81fd-4c80-a1cf-2687c4ef3af7",
   "metadata": {},
   "source": [
    "Before we start with full blown statistical modelling, \n",
    "we can first and see what is the unadjusted effect - \n",
    "what is the mean outcome in each group without taking confounders into account."
   ]
  },
  {
   "cell_type": "code",
   "execution_count": 10,
   "id": "e11411c9-3113-4aa5-9391-22e91c32950d",
   "metadata": {},
   "outputs": [
    {
     "data": {
      "text/plain": [
       "a\n",
       "0    0.147376\n",
       "1    0.052313\n",
       "Name: y, dtype: float64"
      ]
     },
     "execution_count": 10,
     "metadata": {},
     "output_type": "execute_result"
    }
   ],
   "source": [
    "y.groupby(a).mean()"
   ]
  },
  {
   "cell_type": "markdown",
   "id": "592ec37d-9ed7-419a-afc7-930156ab3be1",
   "metadata": {},
   "source": [
    "We see, a pretty large \"effect\" of 9.5% on average \n",
    "in favor of contacting customers through landline rather than on cellular.  \n",
    "Let's see if this holds when we account for confounding factors."
   ]
  },
  {
   "cell_type": "markdown",
   "id": "ca5a4c2a-22c4-4e9d-a3b2-9adaeef084bd",
   "metadata": {},
   "source": [
    "<a id=\"BMD_contact-ipw1\"></a>\n",
    "### 2.1 Apply inverse propensity weighting\n",
    "\n",
    "IPW is probably the most common method for causal inference.\n",
    "It is used to balance groups by giving each data point a different weight so the weighted distribution of confounding factors is similar across treatment groups. \n",
    "In its simplest form, IPW works in two steps:\n",
    "1. It models the probability of one's treatment assignment as a function of their confounders: $p_i = \\Pr[A=a_i|X=x_i]$, commonly referred to as propensity scores.\n",
    "2. It transforms the probabilities into weights by taking their inverse: $w_i = \\frac{1}{p_i}$.\n",
    "\n",
    "Generally, we can estimate $\\Pr[A|X]$ with any estimator that inputs data and outputs a number between 0 and 1,\n",
    "and `causallib` supports plugging-in any arbitrary such estimators.  \n",
    "For starters, we will use a logistic regression model the propensity scores."
   ]
  },
  {
   "cell_type": "code",
   "execution_count": 11,
   "id": "fd8cbf08-f114-43cc-b0f3-096fd3570ad7",
   "metadata": {},
   "outputs": [],
   "source": [
    "from sklearn.linear_model import LogisticRegression\n",
    "from causallib.estimation import IPW\n",
    "\n",
    "ipw = IPW(LogisticRegression(penalty='none', max_iter=5000))"
   ]
  },
  {
   "cell_type": "markdown",
   "id": "3bd05fcb-20fe-411a-b05d-bc0863295a03",
   "metadata": {},
   "source": [
    "We fit the IPW model (which takes care of fitting the internal estimator),\n",
    "in a very similar manner to how Scikit-learn is designed. "
   ]
  },
  {
   "cell_type": "code",
   "execution_count": 12,
   "id": "1abf8a82-2305-4349-b48f-55db69002d86",
   "metadata": {},
   "outputs": [
    {
     "data": {
      "text/html": [
       "<style>#sk-container-id-1 {color: black;background-color: white;}#sk-container-id-1 pre{padding: 0;}#sk-container-id-1 div.sk-toggleable {background-color: white;}#sk-container-id-1 label.sk-toggleable__label {cursor: pointer;display: block;width: 100%;margin-bottom: 0;padding: 0.3em;box-sizing: border-box;text-align: center;}#sk-container-id-1 label.sk-toggleable__label-arrow:before {content: \"▸\";float: left;margin-right: 0.25em;color: #696969;}#sk-container-id-1 label.sk-toggleable__label-arrow:hover:before {color: black;}#sk-container-id-1 div.sk-estimator:hover label.sk-toggleable__label-arrow:before {color: black;}#sk-container-id-1 div.sk-toggleable__content {max-height: 0;max-width: 0;overflow: hidden;text-align: left;background-color: #f0f8ff;}#sk-container-id-1 div.sk-toggleable__content pre {margin: 0.2em;color: black;border-radius: 0.25em;background-color: #f0f8ff;}#sk-container-id-1 input.sk-toggleable__control:checked~div.sk-toggleable__content {max-height: 200px;max-width: 100%;overflow: auto;}#sk-container-id-1 input.sk-toggleable__control:checked~label.sk-toggleable__label-arrow:before {content: \"▾\";}#sk-container-id-1 div.sk-estimator input.sk-toggleable__control:checked~label.sk-toggleable__label {background-color: #d4ebff;}#sk-container-id-1 div.sk-label input.sk-toggleable__control:checked~label.sk-toggleable__label {background-color: #d4ebff;}#sk-container-id-1 input.sk-hidden--visually {border: 0;clip: rect(1px 1px 1px 1px);clip: rect(1px, 1px, 1px, 1px);height: 1px;margin: -1px;overflow: hidden;padding: 0;position: absolute;width: 1px;}#sk-container-id-1 div.sk-estimator {font-family: monospace;background-color: #f0f8ff;border: 1px dotted black;border-radius: 0.25em;box-sizing: border-box;margin-bottom: 0.5em;}#sk-container-id-1 div.sk-estimator:hover {background-color: #d4ebff;}#sk-container-id-1 div.sk-parallel-item::after {content: \"\";width: 100%;border-bottom: 1px solid gray;flex-grow: 1;}#sk-container-id-1 div.sk-label:hover label.sk-toggleable__label {background-color: #d4ebff;}#sk-container-id-1 div.sk-serial::before {content: \"\";position: absolute;border-left: 1px solid gray;box-sizing: border-box;top: 0;bottom: 0;left: 50%;z-index: 0;}#sk-container-id-1 div.sk-serial {display: flex;flex-direction: column;align-items: center;background-color: white;padding-right: 0.2em;padding-left: 0.2em;position: relative;}#sk-container-id-1 div.sk-item {position: relative;z-index: 1;}#sk-container-id-1 div.sk-parallel {display: flex;align-items: stretch;justify-content: center;background-color: white;position: relative;}#sk-container-id-1 div.sk-item::before, #sk-container-id-1 div.sk-parallel-item::before {content: \"\";position: absolute;border-left: 1px solid gray;box-sizing: border-box;top: 0;bottom: 0;left: 50%;z-index: -1;}#sk-container-id-1 div.sk-parallel-item {display: flex;flex-direction: column;z-index: 1;position: relative;background-color: white;}#sk-container-id-1 div.sk-parallel-item:first-child::after {align-self: flex-end;width: 50%;}#sk-container-id-1 div.sk-parallel-item:last-child::after {align-self: flex-start;width: 50%;}#sk-container-id-1 div.sk-parallel-item:only-child::after {width: 0;}#sk-container-id-1 div.sk-dashed-wrapped {border: 1px dashed gray;margin: 0 0.4em 0.5em 0.4em;box-sizing: border-box;padding-bottom: 0.4em;background-color: white;}#sk-container-id-1 div.sk-label label {font-family: monospace;font-weight: bold;display: inline-block;line-height: 1.2em;}#sk-container-id-1 div.sk-label-container {text-align: center;}#sk-container-id-1 div.sk-container {/* jupyter's `normalize.less` sets `[hidden] { display: none; }` but bootstrap.min.css set `[hidden] { display: none !important; }` so we also need the `!important` here to be able to override the default hidden behavior on the sphinx rendered scikit-learn.org. See: https://github.com/scikit-learn/scikit-learn/issues/21755 */display: inline-block !important;position: relative;}#sk-container-id-1 div.sk-text-repr-fallback {display: none;}</style><div id=\"sk-container-id-1\" class=\"sk-top-container\"><div class=\"sk-text-repr-fallback\"><pre>IPW(clip_max=None, clip_min=None, use_stabilized=False, verbose=False,\n",
       "    learner=LogisticRegression(max_iter=5000, penalty=&#x27;none&#x27;))</pre><b>In a Jupyter environment, please rerun this cell to show the HTML representation or trust the notebook. <br />On GitHub, the HTML representation is unable to render, please try loading this page with nbviewer.org.</b></div><div class=\"sk-container\" hidden><div class=\"sk-item sk-dashed-wrapped\"><div class=\"sk-label-container\"><div class=\"sk-label sk-toggleable\"><input class=\"sk-toggleable__control sk-hidden--visually\" id=\"sk-estimator-id-1\" type=\"checkbox\" ><label for=\"sk-estimator-id-1\" class=\"sk-toggleable__label sk-toggleable__label-arrow\">IPW</label><div class=\"sk-toggleable__content\"><pre>IPW(clip_max=None, clip_min=None, use_stabilized=False, verbose=False,\n",
       "    learner=LogisticRegression(max_iter=5000, penalty=&#x27;none&#x27;))</pre></div></div></div><div class=\"sk-parallel\"><div class=\"sk-parallel-item\"><div class=\"sk-item\"><div class=\"sk-label-container\"><div class=\"sk-label sk-toggleable\"><input class=\"sk-toggleable__control sk-hidden--visually\" id=\"sk-estimator-id-2\" type=\"checkbox\" ><label for=\"sk-estimator-id-2\" class=\"sk-toggleable__label sk-toggleable__label-arrow\">learner: LogisticRegression</label><div class=\"sk-toggleable__content\"><pre>LogisticRegression(max_iter=5000, penalty=&#x27;none&#x27;)</pre></div></div></div><div class=\"sk-serial\"><div class=\"sk-item\"><div class=\"sk-estimator sk-toggleable\"><input class=\"sk-toggleable__control sk-hidden--visually\" id=\"sk-estimator-id-3\" type=\"checkbox\" ><label for=\"sk-estimator-id-3\" class=\"sk-toggleable__label sk-toggleable__label-arrow\">LogisticRegression</label><div class=\"sk-toggleable__content\"><pre>LogisticRegression(max_iter=5000, penalty=&#x27;none&#x27;)</pre></div></div></div></div></div></div></div></div></div></div>"
      ],
      "text/plain": [
       "IPW(clip_max=None, clip_min=None, use_stabilized=False, verbose=False,\n",
       "    learner=LogisticRegression(max_iter=5000, penalty='none'))"
      ]
     },
     "execution_count": 12,
     "metadata": {},
     "output_type": "execute_result"
    }
   ],
   "source": [
    "ipw.fit(X, a)"
   ]
  },
  {
   "cell_type": "markdown",
   "id": "44099c20-7bc3-4646-b7c7-51344daad119",
   "metadata": {},
   "source": [
    "We next estimate the rates of positive outcomes under the two interventions, 0 would have been contacted by landline, and 1 if would have been contacted by cellular phone. \n",
    "IPW only supports average (aggregated) outcomes, so this is performed by calling the `estimate_population_outcome` method of the IPW object, similar to how Scikit-learn objects have `predict`."
   ]
  },
  {
   "cell_type": "code",
   "execution_count": 13,
   "id": "3ffe9301-a26e-4162-a689-8b1dede590ab",
   "metadata": {},
   "outputs": [
    {
     "data": {
      "text/plain": [
       "0    0.155089\n",
       "1    0.218814\n",
       "dtype: float64"
      ]
     },
     "execution_count": 13,
     "metadata": {},
     "output_type": "execute_result"
    }
   ],
   "source": [
    "ipw_outcomes = ipw.estimate_population_outcome(X, a, y)\n",
    "ipw_outcomes"
   ]
  },
  {
   "cell_type": "code",
   "execution_count": 14,
   "id": "0cf85e73-02c5-4575-8c50-364c9665040f",
   "metadata": {},
   "outputs": [
    {
     "data": {
      "text/plain": [
       "0.0637247306710714"
      ]
     },
     "execution_count": 14,
     "metadata": {},
     "output_type": "execute_result"
    }
   ],
   "source": [
    "ipw_outcomes[1] - ipw_outcomes[0]"
   ]
  },
  {
   "cell_type": "markdown",
   "id": "71d14f48-914b-4353-9493-6a1ff46aad12",
   "metadata": {},
   "source": [
    "Wow, this shows an estimated positive outcome of 15.6% and 22.0% for landline and cellular phone, respectively.  \n",
    "This effect difference is 6.5% is a reversal of the effect relative to the unadjusted calculation above (yielding -9.5%). \n",
    "It means we expect that, on average, 6.5 more people who the bank contacts would open a term deposit account if all customers would have been contacted trough their cellular phone instead of a landline."
   ]
  },
  {
   "cell_type": "markdown",
   "id": "78539079-1768-4bff-80b7-0855b8478c91",
   "metadata": {},
   "source": [
    "<a id=\"BMD_contact-overlap\"></a>\n",
    "### 2.1.1 Overlap validation\n",
    "\n",
    "*However*, Before we can accept these results, we need to check the IPW model for any problems that we can detect with the observed data. We do this using the `causallib`'s evaluation modules, which we run in the next step.\n",
    "\n",
    "Specifically, lets first test if the two groups are comparable to begin with. \n",
    "Since it can be challenging to check whether a high dimensional distribution of confounders of the two groups is similar, we can reduce it to a single-dimension task by examining whether the propensity scores of the two groups overlap.\n",
    "Namely, whether the distribution $\\Pr[A=1|X,A=0]$ is similar to $\\Pr[A=1|X,A=1]$."
   ]
  },
  {
   "cell_type": "code",
   "execution_count": 15,
   "id": "83ab1fed-09ec-48c8-83ce-b04a93abd368",
   "metadata": {},
   "outputs": [
    {
     "name": "stderr",
     "output_type": "stream",
     "text": [
      "c:\\Users\\204048756\\Miniconda3\\envs\\mit_ibm_tech_workshop\\lib\\site-packages\\causallib\\evaluation\\predictions.py:94: FutureWarning: errors='ignore' is deprecated and will raise in a future version. Use to_numeric without passing `errors` and catch exceptions explicitly instead\n",
      "  evaluated_metrics_df = evaluated_metrics_df.apply(\n"
     ]
    },
    {
     "data": {
      "image/png": "[encoded data removed]",
      "text/plain": [
       "<Figure size 640x480 with 1 Axes>"
      ]
     },
     "metadata": {},
     "output_type": "display_data"
    }
   ],
   "source": [
    "from causallib.evaluation import evaluate\n",
    "\n",
    "ipw_eval = evaluate(ipw, X, a, y)\n",
    "ax = ipw_eval.plot_weight_distribution()"
   ]
  },
  {
   "cell_type": "markdown",
   "id": "97574568-6a05-4514-8ba4-3f92fe53f5f8",
   "metadata": {},
   "source": [
    "This is poor overlap.  \n",
    "We can see that there is an entire subgroup of treated individuals on the right of the plot that is almost guaranteed to be contacted by cellular phone and have no comparable subgroup from the landline group.\n",
    "\n",
    "To deal with that, we will focus only on the overlapping region on the left of the distribution where the propensity score is below ~0.3 (we are just eyeballing it at the moment, but there do exist more rigorous ways to do this type of filtering). "
   ]
  },
  {
   "cell_type": "code",
   "execution_count": 16,
   "id": "e22aa108",
   "metadata": {},
   "outputs": [
    {
     "data": {
      "image/png": "[encoded data removed]",
      "text/plain": [
       "<Figure size 500x400 with 1 Axes>"
      ]
     },
     "execution_count": 16,
     "metadata": {},
     "output_type": "execute_result"
    }
   ],
   "source": [
    "ax.axvspan(0, 0.3, facecolor=\"0.8\", alpha=0.5, zorder=0)\n",
    "ax.text(0.15, -16, \"Inclusion\", ha=\"center\", fontsize=14)\n",
    "ax.text(0.6, -16, \"Exclusion\", ha=\"center\", fontsize=14, color=\"#ab231a\")\n",
    "ax.get_figure().set_size_inches(5, 4)\n",
    "ax.get_figure()"
   ]
  },
  {
   "cell_type": "code",
   "execution_count": 17,
   "id": "360ba43d-3217-465d-9a6a-7334fce715ac",
   "metadata": {},
   "outputs": [],
   "source": [
    "propensity_trim_value = 0.3\n",
    "\n",
    "propensity_scores = ipw.compute_propensity(X, a)\n",
    "\n",
    "inclusion_mask = propensity_scores < propensity_trim_value"
   ]
  },
  {
   "cell_type": "markdown",
   "id": "51d695b5-d7ad-4238-9043-ba87ed075904",
   "metadata": {},
   "source": [
    "And now we filter the data to include only overlapping samples"
   ]
  },
  {
   "cell_type": "code",
   "execution_count": 18,
   "id": "a8a45d5f-8f0f-4a2e-b0d1-bd8a04050b07",
   "metadata": {},
   "outputs": [
    {
     "name": "stdout",
     "output_type": "stream",
     "text": [
      "Number of samples before overlap filtering: 41188.\n",
      "Number of samples after  overlap filtering: 27777.\n"
     ]
    }
   ],
   "source": [
    "XX = X.loc[inclusion_mask]\n",
    "aa = a.loc[inclusion_mask]\n",
    "yy = y.loc[inclusion_mask]\n",
    "data = data.loc[inclusion_mask]\n",
    "\n",
    "print(f\"Number of samples before overlap filtering: {X.shape[0]}.\")\n",
    "print(f\"Number of samples after  overlap filtering: {XX.shape[0]}.\")"
   ]
  },
  {
   "cell_type": "markdown",
   "id": "6ddb61fd-a6be-4461-bbfb-83c36886d403",
   "metadata": {},
   "source": [
    "<a id=\"BMD_contact-ipw2\"></a>\n",
    "### 2.1.2 Apply IPW on the overlapping subsample\n",
    "\n",
    "We now refit the IPW model using the overlapping-only sample"
   ]
  },
  {
   "cell_type": "code",
   "execution_count": 19,
   "id": "bd84cddf-128d-4604-92c8-a7abebe24da5",
   "metadata": {},
   "outputs": [
    {
     "data": {
      "text/html": [
       "<style>#sk-container-id-2 {color: black;background-color: white;}#sk-container-id-2 pre{padding: 0;}#sk-container-id-2 div.sk-toggleable {background-color: white;}#sk-container-id-2 label.sk-toggleable__label {cursor: pointer;display: block;width: 100%;margin-bottom: 0;padding: 0.3em;box-sizing: border-box;text-align: center;}#sk-container-id-2 label.sk-toggleable__label-arrow:before {content: \"▸\";float: left;margin-right: 0.25em;color: #696969;}#sk-container-id-2 label.sk-toggleable__label-arrow:hover:before {color: black;}#sk-container-id-2 div.sk-estimator:hover label.sk-toggleable__label-arrow:before {color: black;}#sk-container-id-2 div.sk-toggleable__content {max-height: 0;max-width: 0;overflow: hidden;text-align: left;background-color: #f0f8ff;}#sk-container-id-2 div.sk-toggleable__content pre {margin: 0.2em;color: black;border-radius: 0.25em;background-color: #f0f8ff;}#sk-container-id-2 input.sk-toggleable__control:checked~div.sk-toggleable__content {max-height: 200px;max-width: 100%;overflow: auto;}#sk-container-id-2 input.sk-toggleable__control:checked~label.sk-toggleable__label-arrow:before {content: \"▾\";}#sk-container-id-2 div.sk-estimator input.sk-toggleable__control:checked~label.sk-toggleable__label {background-color: #d4ebff;}#sk-container-id-2 div.sk-label input.sk-toggleable__control:checked~label.sk-toggleable__label {background-color: #d4ebff;}#sk-container-id-2 input.sk-hidden--visually {border: 0;clip: rect(1px 1px 1px 1px);clip: rect(1px, 1px, 1px, 1px);height: 1px;margin: -1px;overflow: hidden;padding: 0;position: absolute;width: 1px;}#sk-container-id-2 div.sk-estimator {font-family: monospace;background-color: #f0f8ff;border: 1px dotted black;border-radius: 0.25em;box-sizing: border-box;margin-bottom: 0.5em;}#sk-container-id-2 div.sk-estimator:hover {background-color: #d4ebff;}#sk-container-id-2 div.sk-parallel-item::after {content: \"\";width: 100%;border-bottom: 1px solid gray;flex-grow: 1;}#sk-container-id-2 div.sk-label:hover label.sk-toggleable__label {background-color: #d4ebff;}#sk-container-id-2 div.sk-serial::before {content: \"\";position: absolute;border-left: 1px solid gray;box-sizing: border-box;top: 0;bottom: 0;left: 50%;z-index: 0;}#sk-container-id-2 div.sk-serial {display: flex;flex-direction: column;align-items: center;background-color: white;padding-right: 0.2em;padding-left: 0.2em;position: relative;}#sk-container-id-2 div.sk-item {position: relative;z-index: 1;}#sk-container-id-2 div.sk-parallel {display: flex;align-items: stretch;justify-content: center;background-color: white;position: relative;}#sk-container-id-2 div.sk-item::before, #sk-container-id-2 div.sk-parallel-item::before {content: \"\";position: absolute;border-left: 1px solid gray;box-sizing: border-box;top: 0;bottom: 0;left: 50%;z-index: -1;}#sk-container-id-2 div.sk-parallel-item {display: flex;flex-direction: column;z-index: 1;position: relative;background-color: white;}#sk-container-id-2 div.sk-parallel-item:first-child::after {align-self: flex-end;width: 50%;}#sk-container-id-2 div.sk-parallel-item:last-child::after {align-self: flex-start;width: 50%;}#sk-container-id-2 div.sk-parallel-item:only-child::after {width: 0;}#sk-container-id-2 div.sk-dashed-wrapped {border: 1px dashed gray;margin: 0 0.4em 0.5em 0.4em;box-sizing: border-box;padding-bottom: 0.4em;background-color: white;}#sk-container-id-2 div.sk-label label {font-family: monospace;font-weight: bold;display: inline-block;line-height: 1.2em;}#sk-container-id-2 div.sk-label-container {text-align: center;}#sk-container-id-2 div.sk-container {/* jupyter's `normalize.less` sets `[hidden] { display: none; }` but bootstrap.min.css set `[hidden] { display: none !important; }` so we also need the `!important` here to be able to override the default hidden behavior on the sphinx rendered scikit-learn.org. See: https://github.com/scikit-learn/scikit-learn/issues/21755 */display: inline-block !important;position: relative;}#sk-container-id-2 div.sk-text-repr-fallback {display: none;}</style><div id=\"sk-container-id-2\" class=\"sk-top-container\"><div class=\"sk-text-repr-fallback\"><pre>IPW(clip_max=None, clip_min=None, use_stabilized=False, verbose=False,\n",
       "    learner=LogisticRegression(max_iter=5000, penalty=&#x27;none&#x27;))</pre><b>In a Jupyter environment, please rerun this cell to show the HTML representation or trust the notebook. <br />On GitHub, the HTML representation is unable to render, please try loading this page with nbviewer.org.</b></div><div class=\"sk-container\" hidden><div class=\"sk-item sk-dashed-wrapped\"><div class=\"sk-label-container\"><div class=\"sk-label sk-toggleable\"><input class=\"sk-toggleable__control sk-hidden--visually\" id=\"sk-estimator-id-4\" type=\"checkbox\" ><label for=\"sk-estimator-id-4\" class=\"sk-toggleable__label sk-toggleable__label-arrow\">IPW</label><div class=\"sk-toggleable__content\"><pre>IPW(clip_max=None, clip_min=None, use_stabilized=False, verbose=False,\n",
       "    learner=LogisticRegression(max_iter=5000, penalty=&#x27;none&#x27;))</pre></div></div></div><div class=\"sk-parallel\"><div class=\"sk-parallel-item\"><div class=\"sk-item\"><div class=\"sk-label-container\"><div class=\"sk-label sk-toggleable\"><input class=\"sk-toggleable__control sk-hidden--visually\" id=\"sk-estimator-id-5\" type=\"checkbox\" ><label for=\"sk-estimator-id-5\" class=\"sk-toggleable__label sk-toggleable__label-arrow\">learner: LogisticRegression</label><div class=\"sk-toggleable__content\"><pre>LogisticRegression(max_iter=5000, penalty=&#x27;none&#x27;)</pre></div></div></div><div class=\"sk-serial\"><div class=\"sk-item\"><div class=\"sk-estimator sk-toggleable\"><input class=\"sk-toggleable__control sk-hidden--visually\" id=\"sk-estimator-id-6\" type=\"checkbox\" ><label for=\"sk-estimator-id-6\" class=\"sk-toggleable__label sk-toggleable__label-arrow\">LogisticRegression</label><div class=\"sk-toggleable__content\"><pre>LogisticRegression(max_iter=5000, penalty=&#x27;none&#x27;)</pre></div></div></div></div></div></div></div></div></div></div>"
      ],
      "text/plain": [
       "IPW(clip_max=None, clip_min=None, use_stabilized=False, verbose=False,\n",
       "    learner=LogisticRegression(max_iter=5000, penalty='none'))"
      ]
     },
     "execution_count": 19,
     "metadata": {},
     "output_type": "execute_result"
    }
   ],
   "source": [
    "ipw_post_overlap = IPW(LogisticRegression(penalty='none', max_iter=5000))\n",
    "ipw_post_overlap.fit(XX, aa)"
   ]
  },
  {
   "cell_type": "markdown",
   "id": "be1b8e4b-70e6-4a3c-9842-32ed9378ac02",
   "metadata": {},
   "source": [
    "<a id=\"BMD_contact-ipw2-eval\"></a>\n",
    "##### Evaluate IPW\n",
    "\n",
    "Now let's use better practices and diagnose our IPW *Before* peeking at what the estimated effect is"
   ]
  },
  {
   "cell_type": "code",
   "execution_count": 20,
   "id": "179ab3c2-9cbf-47bc-afb9-cb45be26fe66",
   "metadata": {},
   "outputs": [
    {
     "name": "stderr",
     "output_type": "stream",
     "text": [
      "c:\\Users\\204048756\\Miniconda3\\envs\\mit_ibm_tech_workshop\\lib\\site-packages\\causallib\\evaluation\\predictions.py:94: FutureWarning: errors='ignore' is deprecated and will raise in a future version. Use to_numeric without passing `errors` and catch exceptions explicitly instead\n",
      "  evaluated_metrics_df = evaluated_metrics_df.apply(\n"
     ]
    }
   ],
   "source": [
    "ipw_eval = evaluate(ipw_post_overlap, XX, aa, yy)"
   ]
  },
  {
   "cell_type": "code",
   "execution_count": 21,
   "id": "e1b3aace-c772-4266-97eb-137cd5b8a903",
   "metadata": {},
   "outputs": [
    {
     "data": {
      "image/png": "[encoded data removed]",
      "text/plain": [
       "<Figure size 1000x700 with 3 Axes>"
      ]
     },
     "metadata": {},
     "output_type": "display_data"
    }
   ],
   "source": [
    "fig, axes = plt.subplot_mosaic(\n",
    "    '''\n",
    "    AB\n",
    "    AC\n",
    "    ''',\n",
    "    figsize=(10, 7)\n",
    ")   \n",
    "\n",
    "ipw_eval.plot_covariate_balance(kind=\"love\", thresh=0.1, ax=axes[\"A\"])\n",
    "ipw_eval.plot_weight_distribution(ax=axes[\"B\"])\n",
    "ipw_eval.plot_roc_curve(ax=axes[\"C\"])\n",
    "fig.tight_layout()"
   ]
  },
  {
   "cell_type": "markdown",
   "id": "86e2e480-cb85-4b0c-880d-d411b049dde4",
   "metadata": {},
   "source": [
    "So here is a suite of three diagnostics that show our IPW model is well-behaving.\n",
    "\n",
    "* **Propensity Distribution** (top-right): We again show the distribution of propensity scores for both treatment groups, but now we see the two distributions share the same support, meaning the two groups are now comparable.\n",
    "* **ROC Curve** (bottom-right): In normal classification, we want a high area under curve (AUC) value close to 1, but for causal inference, a high AUC indicates that the two treatment groups are too easily separated and therefore not comparable. Propensity model's ROC should be above the diagonal, so that we believe it did capture some patterns in the data but not too much.\n",
    "Additionally, the *Weighted* curve should ideally align with the diagonal. This is the ROC curve after weighting the data with inverse probability weights. Therefore, under this weighting, the two groups should be indistinguishable and predictive performance should be as good as random (recall an ideal setting is a randomized control trial, in which treatment is given randomly and therefore cannot be predicted). \n",
    "* **Covariate Balance** (left): The covariate balance plot, also called a Love plot, displays the *Absolute standardized mean difference* (x-axis) for every covariate (y-axis, covariates' names often appear for large enough plots / few enough covariates).   \n",
    "As the name suggests, the ASMD is the difference in averages of each covariate between groups:\n",
    "  <!-- $$ASMD_j = \\frac{\\bar{x}_j^{(treated)} - \\bar{x}_j^{(control)}}{\\sqrt{{\\hat{\\sigma}_j^{(treated)}}^2 + {\\hat{\\sigma}_j^{(control)}}^2}}$$ -->\n",
    "  $$ASMD_j = \\left\\vert \\frac{\\bar{x}_j \\vert_{A=1}- \\bar{x}_j\\vert_{A=0}}{\\sqrt{\\hat{\\sigma}_j^2\\vert_{A=1} + \\hat{\\sigma}_j^2\\vert_{A=0}}} \\right\\vert$$\n",
    "  Where $\\bar{x}_j \\vert_{A=1}$ is the average of feature $x_j$ among those treated, and $\\hat{\\sigma}_j^2\\vert_{A=0}$ is the estimated standard deviation of $x_j$ among the controls.   \n",
    "  Furthermore, we show the ASMD both for the original data (orange triangles) and the weighted data (blue dots). We see the after weighting, the difference in averages between the groups is smaller and all covariates fall below the (arbitrary, yet accepted) threshold of 0.1 standard deviation that is considered very-well balanced. "
   ]
  },
  {
   "cell_type": "markdown",
   "id": "20a3c3ca-4538-42c2-82af-fa9cf3ed8688",
   "metadata": {},
   "source": [
    "<a id=\"BMD_contact-ipw2-estimate\"></a>\n",
    "##### Estimate with IPW\n",
    "\n",
    "Now that we diagnosed our IPW model and are satisfied with it, \n",
    "we can move on to estimate the average counterfactual outcomes and the average treatment effect."
   ]
  },
  {
   "cell_type": "code",
   "execution_count": 22,
   "id": "970077f2-0971-4f7f-87ff-915657633491",
   "metadata": {},
   "outputs": [
    {
     "data": {
      "text/plain": [
       "0    0.139654\n",
       "1    0.109457\n",
       "dtype: float64"
      ]
     },
     "execution_count": 22,
     "metadata": {},
     "output_type": "execute_result"
    }
   ],
   "source": [
    "ipw_post_overlap_outcomes = ipw_post_overlap.estimate_population_outcome(XX, aa, yy)\n",
    "ipw_post_overlap_outcomes"
   ]
  },
  {
   "cell_type": "code",
   "execution_count": 23,
   "id": "e0256b01-a0d6-43a6-8a32-51335f9ab104",
   "metadata": {},
   "outputs": [
    {
     "data": {
      "text/plain": [
       "-0.030196886688044072"
      ]
     },
     "execution_count": 23,
     "metadata": {},
     "output_type": "execute_result"
    }
   ],
   "source": [
    "ipw_post_overlap_outcomes[1] - ipw_post_overlap_outcomes[0]"
   ]
  },
  {
   "cell_type": "markdown",
   "id": "0b10e9d3-aa39-46b0-b074-3870790f2a83",
   "metadata": {},
   "source": [
    "Wow! another effect reversal.\n",
    "Trimming the non-overlapping samples (overly-biased towards contacting by cellular) has changed the sign of the effect (again).\n",
    "We now see it is actually 3% change in favor of landline, as opposed to 6.5% for cellular before verifying overlap.  \n",
    "Recall our original unadjusted estimation was 9.5% in favor of landline contact.\n",
    "This is a good example of how statistical adjustment can introduce more bias (sign change, as oppose to just change in magnitude) if not done carefully. "
   ]
  },
  {
   "cell_type": "markdown",
   "id": "29db466f-5fde-4b2d-ae70-c810de65c313",
   "metadata": {},
   "source": [
    "Lets do some variable renamings that will help us later:"
   ]
  },
  {
   "cell_type": "code",
   "execution_count": 24,
   "id": "823ede81-e32f-4c3b-87a7-ad53550b3e15",
   "metadata": {},
   "outputs": [],
   "source": [
    "X = XX\n",
    "a = aa\n",
    "y = yy\n",
    "ipw = ipw_post_overlap"
   ]
  },
  {
   "cell_type": "markdown",
   "id": "539c68d7-5904-47bb-b479-c66222ec8d9a",
   "metadata": {},
   "source": [
    "<a id=\"BMD_contact-ipw-exercise\"></a>\n",
    "### 2.1.3 Try your own IPW \n",
    "\n",
    "<font color=\"#32a852\" size=\"4pt\"> **!! Exercise !!** </font>  📖✏️🎓  \n",
    "Try your own IPW.  \n",
    "Recall that you can plug into IPW any arbitrary estimator that inputs data and outputs a scalar value between 0 and 1 (technically speaking, any Python object that implements `fit` and `predict_proba`).  \n",
    "Use the cells below to \n",
    "1. import your favorite classifier (`sklearn` can be useful here) and\n",
    "2. Plug it into the `IPW` object when initializing it.\n",
    "3. Fit the `IPW` model (using `X, a, y`),\n",
    "4. Predict the potential outcomes, and estimate the effect difference.\n",
    "5. <font color=\"#bf378d\">**Bonus**:</font> evaluate the IPW model using the `evaluate` function\n",
    "   (hint: try using the `plot_all()` or the tab-completion for more IPW diagnostics not previously shown)."
   ]
  },
  {
   "cell_type": "code",
   "execution_count": 25,
   "id": "5c002907-240c-4195-bb86-af1e9c53a1d1",
   "metadata": {},
   "outputs": [],
   "source": [
    "# Import a classifier\n",
    "\n",
    "# Initialize an IPW object\n",
    "\n",
    "# Fit the IPW model\n"
   ]
  },
  {
   "cell_type": "code",
   "execution_count": 26,
   "id": "e25ca4b1-af89-43fb-a57a-83a53d64520f",
   "metadata": {},
   "outputs": [],
   "source": [
    "# Bonus: evaluate the fitted IPW model\n"
   ]
  },
  {
   "cell_type": "code",
   "execution_count": 27,
   "id": "c3e27812-85cb-4902-be6e-7f0e03c22f3e",
   "metadata": {},
   "outputs": [],
   "source": [
    "# Estimate the average counterfactual outcomes\n",
    "\n",
    "# What is the effect difference?\n",
    "\n",
    "# Bonus: what is the effect ratio?\n"
   ]
  },
  {
   "cell_type": "markdown",
   "id": "c0b805dc-250b-4604-aba5-81170fa9681a",
   "metadata": {},
   "source": [
    "<a id=\"BMD_contact-standardization\"></a>\n",
    "### 2.2 Direct-outcome modeling\n",
    "\n",
    "So far we applied IPW, which is a weight model that models the treatment as a function of the covariates.  \n",
    "Next we turn to outcome modeling as a second method to estimate the causal effect of contact mode. We will continue to exclude the cellular phone-only group identified to avoid having to extrapolate beyond the data.\n",
    "\n",
    "Standardization (also known as S-learner) requires a model for estimating the outcome *y* given intervention *a* and confounders *X*. We will use gradient-boosted classification trees as well as the *predict_proba=True* option to focus on predicting probabilities of outcomes (\"risk\")."
   ]
  },
  {
   "cell_type": "code",
   "execution_count": 28,
   "id": "4b99efd0-f216-4e46-81a9-1e8396cd99ed",
   "metadata": {},
   "outputs": [
    {
     "data": {
      "text/html": [
       "<style>#sk-container-id-3 {color: black;background-color: white;}#sk-container-id-3 pre{padding: 0;}#sk-container-id-3 div.sk-toggleable {background-color: white;}#sk-container-id-3 label.sk-toggleable__label {cursor: pointer;display: block;width: 100%;margin-bottom: 0;padding: 0.3em;box-sizing: border-box;text-align: center;}#sk-container-id-3 label.sk-toggleable__label-arrow:before {content: \"▸\";float: left;margin-right: 0.25em;color: #696969;}#sk-container-id-3 label.sk-toggleable__label-arrow:hover:before {color: black;}#sk-container-id-3 div.sk-estimator:hover label.sk-toggleable__label-arrow:before {color: black;}#sk-container-id-3 div.sk-toggleable__content {max-height: 0;max-width: 0;overflow: hidden;text-align: left;background-color: #f0f8ff;}#sk-container-id-3 div.sk-toggleable__content pre {margin: 0.2em;color: black;border-radius: 0.25em;background-color: #f0f8ff;}#sk-container-id-3 input.sk-toggleable__control:checked~div.sk-toggleable__content {max-height: 200px;max-width: 100%;overflow: auto;}#sk-container-id-3 input.sk-toggleable__control:checked~label.sk-toggleable__label-arrow:before {content: \"▾\";}#sk-container-id-3 div.sk-estimator input.sk-toggleable__control:checked~label.sk-toggleable__label {background-color: #d4ebff;}#sk-container-id-3 div.sk-label input.sk-toggleable__control:checked~label.sk-toggleable__label {background-color: #d4ebff;}#sk-container-id-3 input.sk-hidden--visually {border: 0;clip: rect(1px 1px 1px 1px);clip: rect(1px, 1px, 1px, 1px);height: 1px;margin: -1px;overflow: hidden;padding: 0;position: absolute;width: 1px;}#sk-container-id-3 div.sk-estimator {font-family: monospace;background-color: #f0f8ff;border: 1px dotted black;border-radius: 0.25em;box-sizing: border-box;margin-bottom: 0.5em;}#sk-container-id-3 div.sk-estimator:hover {background-color: #d4ebff;}#sk-container-id-3 div.sk-parallel-item::after {content: \"\";width: 100%;border-bottom: 1px solid gray;flex-grow: 1;}#sk-container-id-3 div.sk-label:hover label.sk-toggleable__label {background-color: #d4ebff;}#sk-container-id-3 div.sk-serial::before {content: \"\";position: absolute;border-left: 1px solid gray;box-sizing: border-box;top: 0;bottom: 0;left: 50%;z-index: 0;}#sk-container-id-3 div.sk-serial {display: flex;flex-direction: column;align-items: center;background-color: white;padding-right: 0.2em;padding-left: 0.2em;position: relative;}#sk-container-id-3 div.sk-item {position: relative;z-index: 1;}#sk-container-id-3 div.sk-parallel {display: flex;align-items: stretch;justify-content: center;background-color: white;position: relative;}#sk-container-id-3 div.sk-item::before, #sk-container-id-3 div.sk-parallel-item::before {content: \"\";position: absolute;border-left: 1px solid gray;box-sizing: border-box;top: 0;bottom: 0;left: 50%;z-index: -1;}#sk-container-id-3 div.sk-parallel-item {display: flex;flex-direction: column;z-index: 1;position: relative;background-color: white;}#sk-container-id-3 div.sk-parallel-item:first-child::after {align-self: flex-end;width: 50%;}#sk-container-id-3 div.sk-parallel-item:last-child::after {align-self: flex-start;width: 50%;}#sk-container-id-3 div.sk-parallel-item:only-child::after {width: 0;}#sk-container-id-3 div.sk-dashed-wrapped {border: 1px dashed gray;margin: 0 0.4em 0.5em 0.4em;box-sizing: border-box;padding-bottom: 0.4em;background-color: white;}#sk-container-id-3 div.sk-label label {font-family: monospace;font-weight: bold;display: inline-block;line-height: 1.2em;}#sk-container-id-3 div.sk-label-container {text-align: center;}#sk-container-id-3 div.sk-container {/* jupyter's `normalize.less` sets `[hidden] { display: none; }` but bootstrap.min.css set `[hidden] { display: none !important; }` so we also need the `!important` here to be able to override the default hidden behavior on the sphinx rendered scikit-learn.org. See: https://github.com/scikit-learn/scikit-learn/issues/21755 */display: inline-block !important;position: relative;}#sk-container-id-3 div.sk-text-repr-fallback {display: none;}</style><div id=\"sk-container-id-3\" class=\"sk-top-container\"><div class=\"sk-text-repr-fallback\"><pre>Standardization(encode_treatment=False, predict_proba=True,\n",
       "                learner=GradientBoostingClassifier())</pre><b>In a Jupyter environment, please rerun this cell to show the HTML representation or trust the notebook. <br />On GitHub, the HTML representation is unable to render, please try loading this page with nbviewer.org.</b></div><div class=\"sk-container\" hidden><div class=\"sk-item sk-dashed-wrapped\"><div class=\"sk-label-container\"><div class=\"sk-label sk-toggleable\"><input class=\"sk-toggleable__control sk-hidden--visually\" id=\"sk-estimator-id-7\" type=\"checkbox\" ><label for=\"sk-estimator-id-7\" class=\"sk-toggleable__label sk-toggleable__label-arrow\">Standardization</label><div class=\"sk-toggleable__content\"><pre>Standardization(encode_treatment=False, predict_proba=True,\n",
       "                learner=GradientBoostingClassifier())</pre></div></div></div><div class=\"sk-parallel\"><div class=\"sk-parallel-item\"><div class=\"sk-item\"><div class=\"sk-label-container\"><div class=\"sk-label sk-toggleable\"><input class=\"sk-toggleable__control sk-hidden--visually\" id=\"sk-estimator-id-8\" type=\"checkbox\" ><label for=\"sk-estimator-id-8\" class=\"sk-toggleable__label sk-toggleable__label-arrow\">learner: GradientBoostingClassifier</label><div class=\"sk-toggleable__content\"><pre>GradientBoostingClassifier()</pre></div></div></div><div class=\"sk-serial\"><div class=\"sk-item\"><div class=\"sk-estimator sk-toggleable\"><input class=\"sk-toggleable__control sk-hidden--visually\" id=\"sk-estimator-id-9\" type=\"checkbox\" ><label for=\"sk-estimator-id-9\" class=\"sk-toggleable__label sk-toggleable__label-arrow\">GradientBoostingClassifier</label><div class=\"sk-toggleable__content\"><pre>GradientBoostingClassifier()</pre></div></div></div></div></div></div></div></div></div></div>"
      ],
      "text/plain": [
       "Standardization(encode_treatment=False, predict_proba=True,\n",
       "                learner=GradientBoostingClassifier())"
      ]
     },
     "execution_count": 28,
     "metadata": {},
     "output_type": "execute_result"
    }
   ],
   "source": [
    "from causallib.estimation import Standardization\n",
    "from sklearn.ensemble import GradientBoostingClassifier\n",
    "\n",
    "slearner = Standardization(\n",
    "    GradientBoostingClassifier(),\n",
    "    predict_proba=True,\n",
    ")\n",
    "slearner.fit(X, a, y)"
   ]
  },
  {
   "cell_type": "markdown",
   "id": "a1895306-0320-44e2-a494-40d396414cd9",
   "metadata": {},
   "source": [
    "We have fitted the model and now we can estimate the average potential outcomes.  \n",
    "(Note that since outcome models predict the outcome, unlike weight models that use the observed outcome, we don't need to pass the `y` - although for the sake of consistent API we can (and it will be ignored, try it!))"
   ]
  },
  {
   "cell_type": "code",
   "execution_count": 29,
   "id": "6f3816e8-1ce6-4104-8743-8e3f9fc49adc",
   "metadata": {},
   "outputs": [
    {
     "name": "stderr",
     "output_type": "stream",
     "text": [
      "c:\\Users\\204048756\\Miniconda3\\envs\\mit_ibm_tech_workshop\\lib\\site-packages\\sklearn\\utils\\validation.py:1858: FutureWarning: Feature names only support names that are all strings. Got feature names with dtypes: ['int', 'str']. An error will be raised in 1.2.\n",
      "  warnings.warn(\n",
      "c:\\Users\\204048756\\Miniconda3\\envs\\mit_ibm_tech_workshop\\lib\\site-packages\\sklearn\\base.py:450: UserWarning: X does not have valid feature names, but GradientBoostingClassifier was fitted with feature names\n",
      "  warnings.warn(\n",
      "c:\\Users\\204048756\\Miniconda3\\envs\\mit_ibm_tech_workshop\\lib\\site-packages\\sklearn\\utils\\validation.py:1858: FutureWarning: Feature names only support names that are all strings. Got feature names with dtypes: ['int', 'str']. An error will be raised in 1.2.\n",
      "  warnings.warn(\n",
      "c:\\Users\\204048756\\Miniconda3\\envs\\mit_ibm_tech_workshop\\lib\\site-packages\\sklearn\\base.py:450: UserWarning: X does not have valid feature names, but GradientBoostingClassifier was fitted with feature names\n",
      "  warnings.warn(\n"
     ]
    },
    {
     "data": {
      "text/plain": [
       "a  y\n",
       "0  0    0.861270\n",
       "   1    0.138730\n",
       "1  0    0.890617\n",
       "   1    0.109383\n",
       "dtype: float64"
      ]
     },
     "execution_count": 29,
     "metadata": {},
     "output_type": "execute_result"
    }
   ],
   "source": [
    "slearner_avg_outcomes = slearner.estimate_population_outcome(X, a)\n",
    "slearner_avg_outcomes"
   ]
  },
  {
   "cell_type": "markdown",
   "id": "41cd7624-0bff-4b8a-adb3-a8df7adc5d32",
   "metadata": {},
   "source": [
    "Note `causallib` is quite pedantic and since we estimate the \n",
    "probabilities of `y`, we get in return the counterfactual predictions for both $\\Pr[Y=1|X,A]$ and $\\Pr[Y=0|X,A]$ although we often don't care about the latter, so we discard it:"
   ]
  },
  {
   "cell_type": "code",
   "execution_count": 30,
   "id": "8bb7b3e3-d492-4785-be77-33839535fc46",
   "metadata": {},
   "outputs": [
    {
     "data": {
      "text/plain": [
       "a\n",
       "0    0.138730\n",
       "1    0.109383\n",
       "dtype: float64"
      ]
     },
     "execution_count": 30,
     "metadata": {},
     "output_type": "execute_result"
    }
   ],
   "source": [
    "slearner_avg_outcomes = slearner_avg_outcomes.xs(1, level=\"y\")\n",
    "slearner_avg_outcomes"
   ]
  },
  {
   "cell_type": "markdown",
   "id": "2f724fff-df9d-4522-ac6d-141cf09ee88c",
   "metadata": {},
   "source": [
    "And lo and behold - perfect agreement with the estimation we had with IPW!  \n",
    "In setups like causal inference where ground truth is never known, this kind of consistency is reassuring that at-least our results are stable with regards to specific modeling decisions."
   ]
  },
  {
   "cell_type": "markdown",
   "id": "c34ebe5c-e981-4714-ae29-de9329e5e733",
   "metadata": {},
   "source": [
    "<a id=\"BMD_contact-std-indeffects\"></a>\n",
    "#### 2.2.1 Individual-level causal effects\n",
    "\n",
    "Above we have replicated the same average treatment effect we got with logistic regression-based IPW with gradient boosting tree based S-learner (`Standardization`). \n",
    "\n",
    "While weight-based models are restricted to aggregated effect \n",
    "(because they basically do a weighted average of the observed outcome),\n",
    "outcome models - as they predict the outcome - can further estimate individual-level effects.  \n",
    "To do that with `causallib` we will use the `estimate_individual_outcome` method, instead of the `estimate_population_outcome` one."
   ]
  },
  {
   "cell_type": "code",
   "execution_count": 31,
   "id": "9f851e42-4358-4b9e-9fdd-5391a7231b10",
   "metadata": {},
   "outputs": [
    {
     "name": "stdout",
     "output_type": "stream",
     "text": [
      "(27777, 4)\n"
     ]
    },
    {
     "name": "stderr",
     "output_type": "stream",
     "text": [
      "c:\\Users\\204048756\\Miniconda3\\envs\\mit_ibm_tech_workshop\\lib\\site-packages\\sklearn\\utils\\validation.py:1858: FutureWarning: Feature names only support names that are all strings. Got feature names with dtypes: ['int', 'str']. An error will be raised in 1.2.\n",
      "  warnings.warn(\n",
      "c:\\Users\\204048756\\Miniconda3\\envs\\mit_ibm_tech_workshop\\lib\\site-packages\\sklearn\\base.py:450: UserWarning: X does not have valid feature names, but GradientBoostingClassifier was fitted with feature names\n",
      "  warnings.warn(\n",
      "c:\\Users\\204048756\\Miniconda3\\envs\\mit_ibm_tech_workshop\\lib\\site-packages\\sklearn\\utils\\validation.py:1858: FutureWarning: Feature names only support names that are all strings. Got feature names with dtypes: ['int', 'str']. An error will be raised in 1.2.\n",
      "  warnings.warn(\n",
      "c:\\Users\\204048756\\Miniconda3\\envs\\mit_ibm_tech_workshop\\lib\\site-packages\\sklearn\\base.py:450: UserWarning: X does not have valid feature names, but GradientBoostingClassifier was fitted with feature names\n",
      "  warnings.warn(\n"
     ]
    },
    {
     "data": {
      "text/html": [
       "<div>\n",
       "<style scoped>\n",
       "    .dataframe tbody tr th:only-of-type {\n",
       "        vertical-align: middle;\n",
       "    }\n",
       "\n",
       "    .dataframe tbody tr th {\n",
       "        vertical-align: top;\n",
       "    }\n",
       "\n",
       "    .dataframe thead tr th {\n",
       "        text-align: left;\n",
       "    }\n",
       "</style>\n",
       "<table border=\"1\" class=\"dataframe\">\n",
       "  <thead>\n",
       "    <tr>\n",
       "      <th>a</th>\n",
       "      <th colspan=\"2\" halign=\"left\">0</th>\n",
       "      <th colspan=\"2\" halign=\"left\">1</th>\n",
       "    </tr>\n",
       "    <tr>\n",
       "      <th>y</th>\n",
       "      <th>0</th>\n",
       "      <th>1</th>\n",
       "      <th>0</th>\n",
       "      <th>1</th>\n",
       "    </tr>\n",
       "  </thead>\n",
       "  <tbody>\n",
       "    <tr>\n",
       "      <th>12137</th>\n",
       "      <td>0.937475</td>\n",
       "      <td>0.062525</td>\n",
       "      <td>0.954443</td>\n",
       "      <td>0.045557</td>\n",
       "    </tr>\n",
       "    <tr>\n",
       "      <th>12138</th>\n",
       "      <td>0.941128</td>\n",
       "      <td>0.058872</td>\n",
       "      <td>0.957151</td>\n",
       "      <td>0.042849</td>\n",
       "    </tr>\n",
       "    <tr>\n",
       "      <th>12139</th>\n",
       "      <td>0.921560</td>\n",
       "      <td>0.078440</td>\n",
       "      <td>0.941863</td>\n",
       "      <td>0.058137</td>\n",
       "    </tr>\n",
       "    <tr>\n",
       "      <th>12140</th>\n",
       "      <td>0.937704</td>\n",
       "      <td>0.062296</td>\n",
       "      <td>0.954614</td>\n",
       "      <td>0.045386</td>\n",
       "    </tr>\n",
       "    <tr>\n",
       "      <th>12141</th>\n",
       "      <td>0.936120</td>\n",
       "      <td>0.063880</td>\n",
       "      <td>0.953438</td>\n",
       "      <td>0.046562</td>\n",
       "    </tr>\n",
       "  </tbody>\n",
       "</table>\n",
       "</div>"
      ],
      "text/plain": [
       "a             0                   1          \n",
       "y             0         1         0         1\n",
       "12137  0.937475  0.062525  0.954443  0.045557\n",
       "12138  0.941128  0.058872  0.957151  0.042849\n",
       "12139  0.921560  0.078440  0.941863  0.058137\n",
       "12140  0.937704  0.062296  0.954614  0.045386\n",
       "12141  0.936120  0.063880  0.953438  0.046562"
      ]
     },
     "execution_count": 31,
     "metadata": {},
     "output_type": "execute_result"
    }
   ],
   "source": [
    "slearner_ind_outcomes = slearner.estimate_individual_outcome(X, a)\n",
    "print(slearner_ind_outcomes.shape)\n",
    "slearner_ind_outcomes.head()"
   ]
  },
  {
   "cell_type": "markdown",
   "id": "47fd9dcc-89b8-4384-adb9-9cb82457f5f6",
   "metadata": {},
   "source": [
    "We can see the returned value is a DataFrame with the same number of rows as our data, meaning we have an estimate per sample.\n",
    "However, `causallib` is yet again overly pedantic so it returns us the values for all levels of `y`, which we can easily keep the relevant one (for `y==1`)"
   ]
  },
  {
   "cell_type": "code",
   "execution_count": 32,
   "id": "2f4fd640-fced-46f0-b517-43f49b1e6557",
   "metadata": {},
   "outputs": [
    {
     "data": {
      "text/html": [
       "<div>\n",
       "<style scoped>\n",
       "    .dataframe tbody tr th:only-of-type {\n",
       "        vertical-align: middle;\n",
       "    }\n",
       "\n",
       "    .dataframe tbody tr th {\n",
       "        vertical-align: top;\n",
       "    }\n",
       "\n",
       "    .dataframe thead th {\n",
       "        text-align: right;\n",
       "    }\n",
       "</style>\n",
       "<table border=\"1\" class=\"dataframe\">\n",
       "  <thead>\n",
       "    <tr style=\"text-align: right;\">\n",
       "      <th>a</th>\n",
       "      <th>0</th>\n",
       "      <th>1</th>\n",
       "    </tr>\n",
       "  </thead>\n",
       "  <tbody>\n",
       "    <tr>\n",
       "      <th>12137</th>\n",
       "      <td>0.062525</td>\n",
       "      <td>0.045557</td>\n",
       "    </tr>\n",
       "    <tr>\n",
       "      <th>12138</th>\n",
       "      <td>0.058872</td>\n",
       "      <td>0.042849</td>\n",
       "    </tr>\n",
       "    <tr>\n",
       "      <th>12139</th>\n",
       "      <td>0.078440</td>\n",
       "      <td>0.058137</td>\n",
       "    </tr>\n",
       "    <tr>\n",
       "      <th>12140</th>\n",
       "      <td>0.062296</td>\n",
       "      <td>0.045386</td>\n",
       "    </tr>\n",
       "    <tr>\n",
       "      <th>12141</th>\n",
       "      <td>0.063880</td>\n",
       "      <td>0.046562</td>\n",
       "    </tr>\n",
       "  </tbody>\n",
       "</table>\n",
       "</div>"
      ],
      "text/plain": [
       "a             0         1\n",
       "12137  0.062525  0.045557\n",
       "12138  0.058872  0.042849\n",
       "12139  0.078440  0.058137\n",
       "12140  0.062296  0.045386\n",
       "12141  0.063880  0.046562"
      ]
     },
     "execution_count": 32,
     "metadata": {},
     "output_type": "execute_result"
    }
   ],
   "source": [
    "slearner_ind_outcomes = slearner_ind_outcomes.xs(1, level=\"y\", axis=\"columns\")\n",
    "slearner_ind_outcomes.head()"
   ]
  },
  {
   "cell_type": "markdown",
   "id": "be6c7087-0f98-489e-96fd-67afcf223b56",
   "metadata": {},
   "source": [
    "Now we have the quantities of interest: \n",
    "* $E[Y_i^1=1|X_i]=E[Y_i=1|X_i,A_i=1]$ and \n",
    "* $E[Y_i^0=1|X_i]=E[Y_i=1|X_i,A_i=0]$,\n",
    "\n",
    "and calculating the effect is a matter of taking an arbitrary contrast between these potential outcomes."
   ]
  },
  {
   "cell_type": "code",
   "execution_count": 33,
   "id": "fbb4ca48-9630-48c7-848f-329297b92f02",
   "metadata": {},
   "outputs": [
    {
     "data": {
      "text/plain": [
       "12137   -0.016969\n",
       "12138   -0.016023\n",
       "12139   -0.020303\n",
       "12140   -0.016910\n",
       "12141   -0.017318\n",
       "dtype: float64"
      ]
     },
     "execution_count": 33,
     "metadata": {},
     "output_type": "execute_result"
    }
   ],
   "source": [
    "slearner_ind_effect = slearner_ind_outcomes[1] - slearner_ind_outcomes[0]\n",
    "slearner_ind_effect.head()"
   ]
  },
  {
   "cell_type": "markdown",
   "id": "faeaf310",
   "metadata": {},
   "source": [
    "And further take arbitrary aggregation of that contrast (e.g., we are no longer bounded to averages, but may also take the median, instead)."
   ]
  },
  {
   "cell_type": "code",
   "execution_count": null,
   "id": "54135097",
   "metadata": {},
   "outputs": [],
   "source": [
    "slearner_ind_effect.median()"
   ]
  },
  {
   "cell_type": "markdown",
   "id": "81eeb8b1-6d02-477d-90f3-f7552406a21e",
   "metadata": {},
   "source": [
    "<a id=\"BMD_contact-std-cate\"></a>\n",
    "#### 2.2.2 Conditional average treatment effect\n",
    "\n",
    "It is important to note that the effect estimated on a single observation is\n",
    "often highly unreliable as its variance is plausibly much larger than the magnitude of the point estimation (variability which we reduce by averaging over when obtaining the average treatment effect).  \n",
    "However, for large enough datasets, it allows us to slice and aggregate the effect into subgroups of interest."
   ]
  },
  {
   "cell_type": "markdown",
   "id": "0b239a71-5e09-4ecc-a090-dd83077aad41",
   "metadata": {},
   "source": [
    "First, we can see that if we take the average overall, we get the same average effect we got from using `estimate_population_outcome` (well, no surprise there, this is how `causallib` calculates it under the hood)."
   ]
  },
  {
   "cell_type": "code",
   "execution_count": 34,
   "id": "30fede65-ca6e-4d55-99f0-35af38bc9102",
   "metadata": {},
   "outputs": [
    {
     "data": {
      "text/plain": [
       "-0.029347024066826075"
      ]
     },
     "execution_count": 34,
     "metadata": {},
     "output_type": "execute_result"
    }
   ],
   "source": [
    "slearner_ind_effect.mean()"
   ]
  },
  {
   "cell_type": "markdown",
   "id": "a1f36e65-00af-4295-9263-f2f83f89cfe3",
   "metadata": {},
   "source": [
    "However now, we can further examine the average effect in different subgroups\n",
    "since we can aggregate the individual effects as we choose to"
   ]
  },
  {
   "cell_type": "code",
   "execution_count": 35,
   "id": "3c10d1e7-3989-43b8-84ac-f979877d83fe",
   "metadata": {},
   "outputs": [
    {
     "data": {
      "image/png": "[encoded data removed]",
      "text/plain": [
       "<Figure size 700x300 with 2 Axes>"
      ]
     },
     "metadata": {},
     "output_type": "display_data"
    }
   ],
   "source": [
    "fig, axes = plt.subplots(1, 2, figsize=(7,3), sharex=True)\n",
    "# fig, axes = plt.subplots(2, 1, figsize=(7,5), sharex=True)\n",
    "slearner_ind_effect.groupby(data['default']).mean().plot(kind=\"barh\", ax=axes[0])\n",
    "slearner_ind_effect.groupby(data['day_of_week']).mean().plot(kind=\"barh\", ax=axes[1])\n",
    "fig.tight_layout()"
   ]
  },
  {
   "cell_type": "markdown",
   "id": "8a0ee90c-30ce-4da1-bbb0-2a593164450b",
   "metadata": {},
   "source": [
    "And we can see that having one's credit defaulted does exhibit some heterogeneity,\n",
    "while it does not seem to matter on what day did the bank contact its costumers.  \n",
    "Nonetheless, there is no sign-change in different subgroups, so we may conclude that\n",
    "it's not the case where subgroups will benefit from different interventions, \n",
    "only that some will benefit more and others will benefit less."
   ]
  },
  {
   "cell_type": "markdown",
   "id": "1f2eab45-8c2a-4737-8981-e23c49c7bb96",
   "metadata": {},
   "source": [
    "<font color=\"#bf378d\" size=\"3pt\">**Bonus exercise**</font>  📖✏️🎓  \n",
    "play around with other features in `data` (or their combination!) and see whether they exhibit some interesting heterogeneity or not (*extra bonus* for those figuring out what to do with continuous covariates). "
   ]
  },
  {
   "cell_type": "code",
   "execution_count": 36,
   "id": "e0de98b2-0e86-4eb6-b723-3db289b07056",
   "metadata": {},
   "outputs": [],
   "source": [
    "## Uncomment to remind yourself what covairates are available:\n",
    "## and check out the variable book if needed: https://archive.ics.uci.edu/dataset/222/bank+marketing\n",
    "# data.columns"
   ]
  },
  {
   "cell_type": "code",
   "execution_count": 37,
   "id": "98ff17a7-b767-4107-8e54-4936de3fc2f2",
   "metadata": {},
   "outputs": [],
   "source": [
    "# use `slearner_ind_effect` to examine the effect in different strata\n"
   ]
  },
  {
   "cell_type": "markdown",
   "id": "1ee2ced6",
   "metadata": {},
   "source": [
    "To summarize, having individual treatment effects allows us to calculate:\n",
    "* Arbitrary contrasts (difference, ratio, odds-ratios),\n",
    "* in arbitrary subgroups,\n",
    "* using arbitrary aggregation functions (average, median, etc.)"
   ]
  },
  {
   "cell_type": "markdown",
   "id": "8bddafd0-7804-44c1-88b6-1a02f9caf036",
   "metadata": {},
   "source": [
    "<a id=\"BMD_contact-std-tlearner\"></a>\n",
    "#### 2.2.3 T-learner\n",
    "\n",
    "Recall that we have several options to integrate the treatment information in our modeling.    \n",
    "So far we've use an S-learner (\"s\" for \"single\", `Standardization` in `causallib`) that treats the treatment as another variable in the data matrix.  \n",
    "However, there is also a T-learner (\"t\" for \"two\", but it can generalize to arbitrary number of treatment groups) that fits a separate model for each treatment group.\n",
    "This can better force effect heterogeneity (say, in cases treatment may not be very predictive and therefore be completely ignored by the estimator), but uses a smaller sample size for each model and therefore may be less robust.\n",
    "T-learners are implemented as `StratifiedStandardization` in `causallib`."
   ]
  },
  {
   "cell_type": "markdown",
   "id": "ac9809d2-1c34-4e2f-818e-de27433ab41c",
   "metadata": {},
   "source": [
    "<a id=\"BMD_contact-std-tlearner-ex\"></a>\n",
    "<font color=\"#32a852\" size=\"4pt\"> **!! Exercise !!** </font>  📖✏️🎓  \n",
    "Fit your own T-learner.  \n",
    "`Standardization` and `StratifiedStandardization` share the exact same API and are fully interchangeable, so once you define the latter you can simply repeat the process above.\n",
    "\n",
    "1. Import `StratifiedStandardization` from `causallib`.\n",
    "2. *Extra*: you can import your favorite classifier or just used the already imported `GradientBoostingClassifier`\n",
    "   * Note a classifier is needed since the outcome is binary, if it was continuous we would've needed a regression model.\n",
    "4. Initialize `StratifiedStandardization`\n",
    "   * Make sure to set `predict_proba=True`\n",
    "6. Fit the `StratifiedStandardization` model (using `X, a, y`).\n",
    "7. Predict the average potential outcomes, and estimate the average effect difference.\n",
    "8. Predict the individual-level potential outcomes, and estimate the individual-level effect difference.\n",
    "9. <font color=\"#bf378d\">**Bonus**:</font> compare your individual-level effects with the ones obtained with `Standardization` above (maybe with a scatter plot?). Are they consistent?"
   ]
  },
  {
   "cell_type": "code",
   "execution_count": 38,
   "id": "efb305d7-6b9f-43d4-9448-8c2980438530",
   "metadata": {},
   "outputs": [],
   "source": [
    "from causallib.estimation import StratifiedStandardization\n",
    "# This is your place to import another machine learning model to use internally:\n",
    "\n",
    "\n",
    "# Initialize a `StratifiedStandardization` model named `tlearner`:\n",
    "\n",
    "# Fit the model:\n"
   ]
  },
  {
   "cell_type": "code",
   "execution_count": 39,
   "id": "3894d6e3-382a-4cbb-b1db-f4acf43e601f",
   "metadata": {},
   "outputs": [],
   "source": [
    "# Estimate aggregated counterfactual outcomes:\n"
   ]
  },
  {
   "cell_type": "code",
   "execution_count": 40,
   "id": "edc01a52-7c17-40c7-82b6-0c05a889f5dc",
   "metadata": {},
   "outputs": [],
   "source": [
    "# Estimate individual-level counterfactual outcomes:\n"
   ]
  },
  {
   "cell_type": "code",
   "execution_count": 41,
   "id": "86810694-8302-4320-b738-20ccf5c69ce2",
   "metadata": {},
   "outputs": [],
   "source": [
    "# Go crazy:\n",
    "\n",
    "\n"
   ]
  },
  {
   "cell_type": "markdown",
   "id": "9c81870a-6c42-4d85-b65e-0c217b33b9d2",
   "metadata": {},
   "source": [
    "<a id=\"BMD_contact-doublyrobust\"></a>\n",
    "### 2.3 Doubly Robust models\n",
    "\n",
    "Recall that instead of choosing to model the treatment *or* the outcome, \n",
    "we can also combine the two models into a single model.\n",
    "There are many approaches to combine the two models and this family compounded models is referred to \"doubly robust models\".\n",
    "This is because they have a special property that requires only one of the component models \n",
    "(either the weight or outcome models) to be unbiased in order for the combined model to be unbiased.\n",
    "In a way, doubly robust models give a us a second chance at getting the answer right.\n",
    "\n",
    "As we mentioned in the talk, there are several approaches for combining treatment and outcome models into a single model,\n",
    "a lot of them are implemented in `causallib`:\n",
    "1. `WeightedStandardization`: fits a weighted outcome model weighted by inverse propensity weights.\n",
    "2. `PropensityFeatureStandardization`: adds a propensity score (or an inverse propensity score) as an additional feature to the outcome model.\n",
    "   <!-- * Tip: use *feature_type=\"masked_weight_matrix\"* to cover most modeling cases.  -->\n",
    "4. `AIPW`: Augmented IPW fits an outcome model and then uses IPW to reweigh the residuals and add them to the prediction.\n",
    "6. `TMLE`: Targeted Maximum Likelihood Estimator fits an outcome model and then re-targets the estimation by regressing the outcome on the inverse propensity score while using the predictions from the outcome model as offset.\n",
    "   <!-- * Tip: use *reduced=False* if you compare more than 2 treatments. -->\n",
    "\n",
    "Note `causallib` implements other robust models such as `RLearner` and `XLearner`, but their use is out of scope for now (but please do try this at home). "
   ]
  },
  {
   "cell_type": "code",
   "execution_count": 42,
   "id": "9c8035aa-b701-40dd-a2d5-9c9ffec46718",
   "metadata": {},
   "outputs": [],
   "source": [
    "from causallib.estimation import TMLE, AIPW, PropensityFeatureStandardization, WeightedStandardization"
   ]
  },
  {
   "cell_type": "code",
   "execution_count": 43,
   "id": "84455c1d-ae09-4a1b-bec7-b2435f5be455",
   "metadata": {},
   "outputs": [
    {
     "name": "stderr",
     "output_type": "stream",
     "text": [
      "c:\\Users\\204048756\\Miniconda3\\envs\\mit_ibm_tech_workshop\\lib\\site-packages\\sklearn\\utils\\validation.py:1858: FutureWarning: Feature names only support names that are all strings. Got feature names with dtypes: ['int', 'str']. An error will be raised in 1.2.\n",
      "  warnings.warn(\n",
      "c:\\Users\\204048756\\Miniconda3\\envs\\mit_ibm_tech_workshop\\lib\\site-packages\\sklearn\\base.py:450: UserWarning: X does not have valid feature names, but GradientBoostingClassifier was fitted with feature names\n",
      "  warnings.warn(\n",
      "c:\\Users\\204048756\\Miniconda3\\envs\\mit_ibm_tech_workshop\\lib\\site-packages\\sklearn\\utils\\validation.py:1858: FutureWarning: Feature names only support names that are all strings. Got feature names with dtypes: ['int', 'str']. An error will be raised in 1.2.\n",
      "  warnings.warn(\n",
      "c:\\Users\\204048756\\Miniconda3\\envs\\mit_ibm_tech_workshop\\lib\\site-packages\\sklearn\\base.py:450: UserWarning: X does not have valid feature names, but GradientBoostingClassifier was fitted with feature names\n",
      "  warnings.warn(\n"
     ]
    },
    {
     "name": "stderr",
     "output_type": "stream",
     "text": [
      "c:\\Users\\204048756\\Miniconda3\\envs\\mit_ibm_tech_workshop\\lib\\site-packages\\sklearn\\base.py:450: UserWarning: X does not have valid feature names, but TargetMinMaxScaler was fitted with feature names\n",
      "  warnings.warn(\n",
      "c:\\Users\\204048756\\Miniconda3\\envs\\mit_ibm_tech_workshop\\lib\\site-packages\\sklearn\\utils\\validation.py:1858: FutureWarning: Feature names only support names that are all strings. Got feature names with dtypes: ['int', 'str']. An error will be raised in 1.2.\n",
      "  warnings.warn(\n",
      "c:\\Users\\204048756\\Miniconda3\\envs\\mit_ibm_tech_workshop\\lib\\site-packages\\sklearn\\base.py:450: UserWarning: X does not have valid feature names, but GradientBoostingClassifier was fitted with feature names\n",
      "  warnings.warn(\n",
      "c:\\Users\\204048756\\Miniconda3\\envs\\mit_ibm_tech_workshop\\lib\\site-packages\\sklearn\\utils\\validation.py:1858: FutureWarning: Feature names only support names that are all strings. Got feature names with dtypes: ['int', 'str']. An error will be raised in 1.2.\n",
      "  warnings.warn(\n",
      "c:\\Users\\204048756\\Miniconda3\\envs\\mit_ibm_tech_workshop\\lib\\site-packages\\sklearn\\base.py:450: UserWarning: X does not have valid feature names, but GradientBoostingClassifier was fitted with feature names\n",
      "  warnings.warn(\n",
      "c:\\Users\\204048756\\Miniconda3\\envs\\mit_ibm_tech_workshop\\lib\\site-packages\\sklearn\\base.py:450: UserWarning: X does not have valid feature names, but TargetMinMaxScaler was fitted with feature names\n",
      "  warnings.warn(\n",
      "c:\\Users\\204048756\\Miniconda3\\envs\\mit_ibm_tech_workshop\\lib\\site-packages\\sklearn\\base.py:450: UserWarning: X does not have valid feature names, but OneHotEncoder was fitted with feature names\n",
      "  warnings.warn(\n",
      "c:\\Users\\204048756\\Miniconda3\\envs\\mit_ibm_tech_workshop\\lib\\site-packages\\sklearn\\base.py:450: UserWarning: X does not have valid feature names, but TargetMinMaxScaler was fitted with feature names\n",
      "  warnings.warn(\n",
      "c:\\Users\\204048756\\Miniconda3\\envs\\mit_ibm_tech_workshop\\lib\\site-packages\\sklearn\\base.py:450: UserWarning: X does not have valid feature names, but OneHotEncoder was fitted with feature names\n",
      "  warnings.warn(\n"
     ]
    },
    {
     "data": {
      "text/plain": [
       "a\n",
       "0    0.139570\n",
       "1    0.104013\n",
       "dtype: float64"
      ]
     },
     "execution_count": 43,
     "metadata": {},
     "output_type": "execute_result"
    }
   ],
   "source": [
    "dr = TMLE(\n",
    "    outcome_model=Standardization(\n",
    "        GradientBoostingClassifier(), \n",
    "        predict_proba=True\n",
    "    ),\n",
    "    # weight_model=IPW(GradientBoostingClassifier()),\n",
    "    weight_model=IPW(\n",
    "        LogisticRegression(\n",
    "            penalty=\"none\", max_iter=5000\n",
    "        )\n",
    "    ),\n",
    "    reduced=False,\n",
    "    importance_sampling=False,\n",
    ")\n",
    "dr.fit(X, a, y)\n",
    "dr_outcomes = dr.estimate_population_outcome(X, a)\n",
    "dr_outcomes"
   ]
  },
  {
   "cell_type": "markdown",
   "id": "cbb61705-390d-47aa-901a-ba246c116a39",
   "metadata": {},
   "source": [
    "We can see that this results highly agrees with previous estimations, \n",
    "but mostly because we had large agreement between IPW and S-learner to begin with,\n",
    "so there is not a lot to \"correct\" in the direction of either models. "
   ]
  },
  {
   "cell_type": "markdown",
   "id": "4102660f-8619-400d-a15e-0cc654de5ca1",
   "metadata": {},
   "source": [
    "<!-- <font color=\"#32a852\" size=\"4pt\"> **!! Excecise !!** </font>  \n",
    "Fit your own doubly robust model.  \n",
    "\n",
    "1. Import a doubly robust model of your choosing.\n",
    "2. Fondly reminisce those \"choose your own adventure\" books you liked as a kid.\n",
    "5. Initialize your doubly robust model\n",
    "   1. Remember to plug in causallib's outcome model and weight model, not a Scikit-learn.\n",
    "   2. However, note those outcome and weight models should themselves be initialized with a ML estimator\n",
    "   3. Confusingly reminisce the movie Inception.\n",
    "   4. Optional: use the `?` or tab-completion to see what other configuration can be passed to it.\n",
    "7. Fit the doubly robust model (using `X, a, y`).\n",
    "8. Predict the average potential outcomes, and estimate the average effect difference.\n",
    "9. <font color=\"#bf378d\">**Bonus**:</font> compare your effect estimate with the previous ones obtained with `IPW`, `Standardization` or `StratifiedStandardization`. Are they consistent? -->"
   ]
  },
  {
   "cell_type": "markdown",
   "id": "3b6fcd87-cc11-4108-9529-a02bf233b8b6",
   "metadata": {},
   "source": [
    "<a id=\"BMD_contact-doublyrobust-ex\"></a>\n",
    "<font color=\"#32a852\" size=\"4pt\"> **!! Exercise !!** </font>   📖✏️🎓  \n",
    "Fit your own doubly robust model.  \n",
    "\n",
    "1. Take the cell above and copy it below.\n",
    "2. Tinker it as you wish:\n",
    "   1. Use a different doubly robust model (or use TMLE, it's great).\n",
    "   2. Use a T-learner instead of an S-learner (or not).\n",
    "   3. Use different ML estimator within the outcome model and the weight model (<font color=\"#bf378d\">**Bonus**:</font> build a scikit-learn Pipeline with a Grid Search-based model).\n",
    "   4. Change different parameters in the doubly robust model initialization to investigate different flavors.\n",
    "      * use the `?` or tab-completion to see what other configuration can be passed to it.\n",
    "   6. Fondly reminisce those \"choose your own adventure\" books you liked as a kid.\n",
    "7. Fit the doubly robust model (using `X, a, y`).\n",
    "8. Predict the average potential outcomes, and estimate the average effect difference.\n",
    "9. <font color=\"#bf378d\">**Bonus**:</font> compare your effect estimate with the previous ones obtained with `TMLE`, `IPW`, `Standardization` or `StratifiedStandardization`. Are they consistent?"
   ]
  },
  {
   "cell_type": "code",
   "execution_count": 44,
   "id": "47ff9e1e-c6e8-499c-94fc-f528a38ec7be",
   "metadata": {},
   "outputs": [],
   "source": [
    "# Copy here the cell above to tinker with it:\n",
    "\n",
    "\n"
   ]
  },
  {
   "cell_type": "markdown",
   "id": "58744c04-0e98-44e7-9dea-00fedd342659",
   "metadata": {},
   "source": [
    "<a id=\"BMD_contact-summary\"></a>\n",
    "## 3. Summary\n",
    "\n",
    "In this demo we went over the basic modelling approaches for causal inference with causallib.\n",
    "1. We have examined whether the data we have can answer a causal question.\n",
    "3. We have used IPW to obtain average treatment effects.\n",
    "4. We have used propensity score models to validate overlap or help us achieve it.\n",
    "5. We have seen how to diagnose a good IPW model.\n",
    "6. We have presented direct-outcome modeling.\n",
    "7. We have seen how these can be used to obtained more granular effect estimations (as opposed to just the average across the entire sample). \n",
    "8. We have seen how to model the outcome with an S-learner (which fits a single model with the treatment assignment as a feature) and with a T-learner (which fits a model per treatment group with the treatment assignment as sort of task indicator).\n",
    "9. We then saw how the two modeling approaches can be combined into one doubly robust model.\n",
    "\n",
    "\n",
    "#### Take home messages:\n",
    "\n",
    "1. `causallib` offers a mix-and-match, fully interchangeable design that allow the users to seamlessly increase model complexity.\n",
    "2. It has a two-stage fit-predict-like design that should feel familiar for scikit-learn users.\n",
    "3. In terms of modeling, we saw IPW can help us both estimate effect and investigate our dataset. Therefore, it is often beneficial to model the treatment assignment even if we choose to model the effect with direct outcomes as means to get to know your data better. And if you plan to model the outcome directly but already have a weight model, why not combine them into a doubly robust model?\n",
    "\n",
    "\n",
    "#### What we didn't do:\n",
    "\n",
    "`causallib` has more capabilities we haven't touched on due to time and scope, but briefly:\n",
    "1. **Survival analysis**: beyond classification and regression, causallib can also model time-to-event outcomes [with the same interchangeable, scalable, plug-in design we saw so far](https://github.com/IBM/causallib/blob/master/examples/causal_survival_analysis.ipynb).\n",
    "2. **Confounder selection**: similar to feature selection methods in ML, causallib has variable-selection methods tailored for the causal inference setting. [We even have IBM-developed methods there](https://github.com/IBM/causallib/tree/master/causallib/contrib/shared_sparsity_selection). \n",
    "3. **Model selection**: again, similar to how model selection in ML, causallib implements mechanism like sklearn's `GridSearchCV` (or any other sklearn-compatible model selection method) optimizing for causal-specific metrics (like the hyper parameters minimizing ASMD or weighted AUC that were discussed above). \n",
    "4. **More causal models**: causallib implements even more causal models we haven't discussed: R-learner, X-learner, overlap weights, adversarial balancing, matching...\n",
    "5. **Out of sample prediction**: following our two-step fit-predict-like approach allows causallib to split the data into train and test (well, train and inference) to get more honest estimations, which is especially important as causallib allows to plug-in arbitrary-complex ML models that may overfit. To see the benefit of properly integrating ensemble learning with causallib, see [this TMLE Notebook](https://github.com/IBM/causallib/blob/master/examples/TMLE.ipynb).\n",
    "\n",
    "\n",
    "### Take home resources:\n",
    "\n",
    "1. GitHub repository: [https://github.com/IBM/causallib](https://github.com/IBM/causallib)\n",
    "2. Usage examples: [https://github.com/IBM/causallib/tree/master/examples](https://github.com/BiomedSciAI/causallib/tree/master/examples)\n",
    "3. Documentation: [https://causallib.readthedocs.io/en/latest/](https://causallib.readthedocs.io/en/latest/)\n",
    "4. `pip install causallib`: [https://pypi.org/project/causallib/](https://pypi.org/project/causallib/)"
   ]
  },
  {
   "cell_type": "markdown",
   "id": "e2c683f8-0ff9-42a1-bc1a-ab9b13f6068d",
   "metadata": {},
   "source": []
  }
 ],
 "metadata": {
  "kernelspec": {
   "display_name": "Python 3 (ipykernel)",
   "language": "python",
   "name": "python3"
  },
  "language_info": {
   "codemirror_mode": {
    "name": "ipython",
    "version": 3
   },
   "file_extension": ".py",
   "mimetype": "text/x-python",
   "name": "python",
   "nbconvert_exporter": "python",
   "pygments_lexer": "ipython3",
   "version": "3.10.13"
  }
 },
 "nbformat": 4,
 "nbformat_minor": 5
}
